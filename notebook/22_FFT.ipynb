{
 "cells": [
  {
   "cell_type": "code",
   "execution_count": 1,
   "metadata": {},
   "outputs": [],
   "source": [
    "%load_ext autoreload\n",
    "%autoreload 2\n",
    "import sys\n",
    "import os\n",
    "import pandas as pd\n",
    "from datetime import datetime\n",
    "import lightgbm as lgb\n",
    "from dotenv import load_dotenv\n",
    "load_dotenv() \n",
    "from sklearn.metrics import mean_absolute_error\n",
    "from sklearn.base import BaseEstimator, TransformerMixin\n",
    "from sklearn.preprocessing import FunctionTransformer\n",
    "from sklearn.pipeline import make_pipeline\n",
    "import numpy as np\n",
    "from sklearn.model_selection import RandomizedSearchCV\n",
    "from sklearn.model_selection import train_test_split\n",
    "import matplotlib.pyplot as plt\n",
    "from sklearn.model_selection import cross_val_score\n",
    "from scipy.fft import fft, ifft\n",
    "\n",
    "sys.path.append(os.path.abspath(os.path.join(os.getcwd(), \"..\")))\n",
    "\n",
    "from src.config import TRANSFORMED_DATA_DIR\n",
    "from src.data_utils import split_time_series_data\n",
    "from src.experiment_utils import set_mlflow_tracking, log_model_to_mlflow\n"
   ]
  },
  {
   "cell_type": "code",
   "execution_count": 2,
   "metadata": {},
   "outputs": [],
   "source": [
    "def split_time_series_data_percentage(\n",
    "    df: pd.DataFrame,\n",
    "    target_column: str,\n",
    ") -> tuple[pd.DataFrame, pd.Series, pd.DataFrame, pd.Series, pd.DataFrame, pd.Series]:\n",
    "    \"\"\"\n",
    "    Splits a time series DataFrame into training, validation, and testing sets (70%, 20%, 10%).\n",
    "\n",
    "    Args:\n",
    "        df (pd.DataFrame): The input DataFrame containing the time series data.\n",
    "        target_column (str): The name of the target column to separate from the features.\n",
    "\n",
    "    Returns:\n",
    "        Tuple[pd.DataFrame, pd.Series, pd.DataFrame, pd.Series, pd.DataFrame, pd.Series]:\n",
    "            - X_train (pd.DataFrame): Training features (70% of data).\n",
    "            - y_train (pd.Series): Training target values.\n",
    "            - X_val (pd.DataFrame): Validation features (20% of data).\n",
    "            - y_val (pd.Series): Validation target values.\n",
    "            - X_test (pd.DataFrame): Testing features (10% of data).\n",
    "            - y_test (pd.Series): Testing target values.\n",
    "    \"\"\"\n",
    "    # Sort the DataFrame by date\n",
    "    df_sorted = df.sort_values(\"pickup_hour\")\n",
    "\n",
    "    # Calculate the split indices\n",
    "    train_end = int(len(df) * 0.5)\n",
    "    val_end = int(len(df) * 0.8)\n",
    "\n",
    "    # Split the data into training, validation, and testing sets\n",
    "    train_data = df_sorted[:train_end].reset_index(drop=True)\n",
    "    val_data = df_sorted[train_end:val_end].reset_index(drop=True)\n",
    "    test_data = df_sorted[val_end:].reset_index(drop=True)\n",
    "\n",
    "    # Separate features (X) and target (y) for all three sets\n",
    "    X_train = train_data.drop(columns=[target_column])\n",
    "    y_train = train_data[target_column]\n",
    "    X_val = val_data.drop(columns=[target_column])\n",
    "    y_val = val_data[target_column]\n",
    "    X_test = test_data.drop(columns=[target_column])\n",
    "    y_test = test_data[target_column]\n",
    "\n",
    "    return X_train, y_train, X_val, y_val, X_test, y_test\n",
    "\n",
    "df = pd.read_parquet(TRANSFORMED_DATA_DIR / \"tabular_data.parquet\")\n",
    "df.head(5)\n",
    "df.shape\n",
    "X_train, y_train, X_val, y_val, X_test, y_test = split_time_series_data_percentage(df, target_column=\"target\")"
   ]
  },
  {
   "cell_type": "code",
   "execution_count": 3,
   "metadata": {},
   "outputs": [],
   "source": [
    "def apply_fft(data):\n",
    "    # Apply FFT\n",
    "    fft_result = fft(data)\n",
    "    \n",
    "    # You can perform frequency domain operations here if needed\n",
    "    \n",
    "    # Inverse FFT to get back to time domain\n",
    "    ifft_result = ifft(fft_result)\n",
    "    \n",
    "    return fft_result, ifft_result\n",
    "\n",
    "y_train_fft = apply_fft(y_train)\n",
    "y_val_fft = apply_fft(y_val)\n",
    "y_test_fft = apply_fft(y_test)"
   ]
  },
  {
   "cell_type": "code",
   "execution_count": 4,
   "metadata": {},
   "outputs": [
    {
     "data": {
      "text/plain": [
       "(array([496891.            -0.j        , -12047.05053735+11266.48625237j,\n",
       "        -13417.93589913 +2578.28468926j, ...,\n",
       "         -8854.7913364  -3887.89783871j, -13417.93589913 -2578.28468926j,\n",
       "        -12047.05053735-11266.48625237j]),\n",
       " array([-5.31455475e-15+0.00000000e+00j, -3.72007399e-14-1.59463319e-14j,\n",
       "         2.00000000e+00+1.77744349e-14j, ...,\n",
       "         3.00000000e+00+1.48190572e-14j,  4.00000000e+00-2.95991895e-15j,\n",
       "        -9.30275741e-15+3.18866615e-14j]))"
      ]
     },
     "execution_count": 4,
     "metadata": {},
     "output_type": "execute_result"
    }
   ],
   "source": [
    "y_train_fft"
   ]
  },
  {
   "cell_type": "code",
   "execution_count": 5,
   "metadata": {},
   "outputs": [
    {
     "data": {
      "image/png": "[encoded data removed]",
      "text/plain": [
       "<Figure size 1200x600 with 1 Axes>"
      ]
     },
     "metadata": {},
     "output_type": "display_data"
    },
    {
     "name": "stdout",
     "output_type": "stream",
     "text": [
      "Dominant frequency: 0.00 Hz\n"
     ]
    }
   ],
   "source": [
    "import numpy as np\n",
    "import matplotlib.pyplot as plt\n",
    "\n",
    "def analyze_fft(time_series, sample_rate):\n",
    "    # time_series = time_series/len(time_series) # Added code here to scale (to test for scale errors) - May fix high initial results\n",
    "    # Apply FFT\n",
    "    fft_result = np.fft.fft(time_series)\n",
    "    \n",
    "    # Compute frequencies\n",
    "    frequencies = np.fft.fftfreq(len(time_series), d=1/sample_rate)\n",
    "    \n",
    "    # Calculate power spectral density\n",
    "    psd = np.abs(fft_result)**2 / len(time_series)\n",
    "    \n",
    "    # Plot the power spectral density\n",
    "    plt.figure(figsize=(12, 6))\n",
    "    plt.plot(frequencies[:len(frequencies)//2], psd[:len(psd)//2])\n",
    "    plt.xlabel('Frequency (Hz)')\n",
    "    plt.ylabel('Power Spectral Density')\n",
    "    plt.title('Frequency Spectrum Analysis')\n",
    "    plt.grid(True)\n",
    "    plt.show()\n",
    "    \n",
    "    # Identify dominant frequencies\n",
    "    dominant_freq_index = np.argmax(psd[:len(psd)//2])\n",
    "    dominant_frequency = frequencies[dominant_freq_index]\n",
    "    print(f\"Dominant frequency: {dominant_frequency:.2f} Hz\")\n",
    "\n",
    "# Example usage\n",
    "sample_rate = 24  # Assuming 24 samples per day\n",
    "analyze_fft(y_train, sample_rate)\n"
   ]
  }
 ],
 "metadata": {
  "kernelspec": {
   "display_name": "CDA500P1",
   "language": "python",
   "name": "python3"
  },
  "language_info": {
   "codemirror_mode": {
    "name": "ipython",
    "version": 3
   },
   "file_extension": ".py",
   "mimetype": "text/x-python",
   "name": "python",
   "nbconvert_exporter": "python",
   "pygments_lexer": "ipython3",
   "version": "3.12.8"
  }
 },
 "nbformat": 4,
 "nbformat_minor": 2
}
