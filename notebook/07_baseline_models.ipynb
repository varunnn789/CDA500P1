{
 "cells": [
  {
   "cell_type": "markdown",
   "metadata": {},
   "source": [
    "Import Statements"
   ]
  },
  {
   "cell_type": "code",
   "execution_count": 1,
   "metadata": {},
   "outputs": [],
   "source": [
    "%load_ext autoreload\n",
    "%autoreload 2\n",
    "\n",
    "import sys\n",
    "import os\n",
    "import pandas as pd\n",
    "import numpy as np\n",
    "from datetime import datetime\n",
    "from sklearn.metrics import mean_absolute_error\n",
    "from dotenv import load_dotenv\n",
    "load_dotenv()\n",
    "from IPython.core.interactiveshell import InteractiveShell\n",
    "InteractiveShell.ast_node_interactivity = \"all\"\n",
    "\n",
    "# Add the parent directory to the Python path\n",
    "sys.path.append(os.path.abspath(os.path.join(os.getcwd(), \"..\")))\n",
    "\n",
    "from src.config import TRANSFORMED_DATA_DIR\n",
    "from src.data_utils import split_time_series_data\n",
    "from src.experiment_utils import set_mlflow_tracking, log_model_to_mlflow\n",
    "from src.plot_utils import plot_aggregated_time_series"
   ]
  },
  {
   "cell_type": "markdown",
   "metadata": {},
   "source": [
    "Data Loading and Test Train split"
   ]
  },
  {
   "cell_type": "code",
   "execution_count": 2,
   "metadata": {},
   "outputs": [
    {
     "data": {
      "text/html": [
       "<div>\n",
       "<style scoped>\n",
       "    .dataframe tbody tr th:only-of-type {\n",
       "        vertical-align: middle;\n",
       "    }\n",
       "\n",
       "    .dataframe tbody tr th {\n",
       "        vertical-align: top;\n",
       "    }\n",
       "\n",
       "    .dataframe thead th {\n",
       "        text-align: right;\n",
       "    }\n",
       "</style>\n",
       "<table border=\"1\" class=\"dataframe\">\n",
       "  <thead>\n",
       "    <tr style=\"text-align: right;\">\n",
       "      <th></th>\n",
       "      <th>rides_t-672</th>\n",
       "      <th>rides_t-671</th>\n",
       "      <th>rides_t-670</th>\n",
       "      <th>rides_t-669</th>\n",
       "      <th>rides_t-668</th>\n",
       "      <th>rides_t-667</th>\n",
       "      <th>rides_t-666</th>\n",
       "      <th>rides_t-665</th>\n",
       "      <th>rides_t-664</th>\n",
       "      <th>rides_t-663</th>\n",
       "      <th>...</th>\n",
       "      <th>rides_t-7</th>\n",
       "      <th>rides_t-6</th>\n",
       "      <th>rides_t-5</th>\n",
       "      <th>rides_t-4</th>\n",
       "      <th>rides_t-3</th>\n",
       "      <th>rides_t-2</th>\n",
       "      <th>rides_t-1</th>\n",
       "      <th>pickup_hour</th>\n",
       "      <th>pickup_location_id</th>\n",
       "      <th>target</th>\n",
       "    </tr>\n",
       "  </thead>\n",
       "  <tbody>\n",
       "    <tr>\n",
       "      <th>0</th>\n",
       "      <td>0</td>\n",
       "      <td>0</td>\n",
       "      <td>0</td>\n",
       "      <td>0</td>\n",
       "      <td>0</td>\n",
       "      <td>0</td>\n",
       "      <td>0</td>\n",
       "      <td>0</td>\n",
       "      <td>0</td>\n",
       "      <td>0</td>\n",
       "      <td>...</td>\n",
       "      <td>1</td>\n",
       "      <td>0</td>\n",
       "      <td>0</td>\n",
       "      <td>0</td>\n",
       "      <td>0</td>\n",
       "      <td>0</td>\n",
       "      <td>0</td>\n",
       "      <td>2023-01-29</td>\n",
       "      <td>2</td>\n",
       "      <td>0</td>\n",
       "    </tr>\n",
       "    <tr>\n",
       "      <th>1</th>\n",
       "      <td>0</td>\n",
       "      <td>0</td>\n",
       "      <td>0</td>\n",
       "      <td>0</td>\n",
       "      <td>0</td>\n",
       "      <td>0</td>\n",
       "      <td>0</td>\n",
       "      <td>0</td>\n",
       "      <td>0</td>\n",
       "      <td>0</td>\n",
       "      <td>...</td>\n",
       "      <td>0</td>\n",
       "      <td>0</td>\n",
       "      <td>0</td>\n",
       "      <td>0</td>\n",
       "      <td>0</td>\n",
       "      <td>0</td>\n",
       "      <td>0</td>\n",
       "      <td>2023-01-30</td>\n",
       "      <td>2</td>\n",
       "      <td>0</td>\n",
       "    </tr>\n",
       "    <tr>\n",
       "      <th>2</th>\n",
       "      <td>0</td>\n",
       "      <td>0</td>\n",
       "      <td>0</td>\n",
       "      <td>0</td>\n",
       "      <td>0</td>\n",
       "      <td>0</td>\n",
       "      <td>0</td>\n",
       "      <td>0</td>\n",
       "      <td>0</td>\n",
       "      <td>0</td>\n",
       "      <td>...</td>\n",
       "      <td>0</td>\n",
       "      <td>0</td>\n",
       "      <td>0</td>\n",
       "      <td>0</td>\n",
       "      <td>0</td>\n",
       "      <td>0</td>\n",
       "      <td>0</td>\n",
       "      <td>2023-01-31</td>\n",
       "      <td>2</td>\n",
       "      <td>0</td>\n",
       "    </tr>\n",
       "    <tr>\n",
       "      <th>3</th>\n",
       "      <td>0</td>\n",
       "      <td>0</td>\n",
       "      <td>0</td>\n",
       "      <td>0</td>\n",
       "      <td>0</td>\n",
       "      <td>0</td>\n",
       "      <td>0</td>\n",
       "      <td>0</td>\n",
       "      <td>0</td>\n",
       "      <td>0</td>\n",
       "      <td>...</td>\n",
       "      <td>0</td>\n",
       "      <td>0</td>\n",
       "      <td>0</td>\n",
       "      <td>0</td>\n",
       "      <td>0</td>\n",
       "      <td>0</td>\n",
       "      <td>0</td>\n",
       "      <td>2023-02-01</td>\n",
       "      <td>2</td>\n",
       "      <td>0</td>\n",
       "    </tr>\n",
       "    <tr>\n",
       "      <th>4</th>\n",
       "      <td>0</td>\n",
       "      <td>0</td>\n",
       "      <td>0</td>\n",
       "      <td>0</td>\n",
       "      <td>0</td>\n",
       "      <td>0</td>\n",
       "      <td>0</td>\n",
       "      <td>0</td>\n",
       "      <td>0</td>\n",
       "      <td>0</td>\n",
       "      <td>...</td>\n",
       "      <td>0</td>\n",
       "      <td>0</td>\n",
       "      <td>0</td>\n",
       "      <td>0</td>\n",
       "      <td>0</td>\n",
       "      <td>0</td>\n",
       "      <td>0</td>\n",
       "      <td>2023-02-02</td>\n",
       "      <td>2</td>\n",
       "      <td>0</td>\n",
       "    </tr>\n",
       "  </tbody>\n",
       "</table>\n",
       "<p>5 rows × 675 columns</p>\n",
       "</div>"
      ],
      "text/plain": [
       "   rides_t-672  rides_t-671  rides_t-670  rides_t-669  rides_t-668  \\\n",
       "0            0            0            0            0            0   \n",
       "1            0            0            0            0            0   \n",
       "2            0            0            0            0            0   \n",
       "3            0            0            0            0            0   \n",
       "4            0            0            0            0            0   \n",
       "\n",
       "   rides_t-667  rides_t-666  rides_t-665  rides_t-664  rides_t-663  ...  \\\n",
       "0            0            0            0            0            0  ...   \n",
       "1            0            0            0            0            0  ...   \n",
       "2            0            0            0            0            0  ...   \n",
       "3            0            0            0            0            0  ...   \n",
       "4            0            0            0            0            0  ...   \n",
       "\n",
       "   rides_t-7  rides_t-6  rides_t-5  rides_t-4  rides_t-3  rides_t-2  \\\n",
       "0          1          0          0          0          0          0   \n",
       "1          0          0          0          0          0          0   \n",
       "2          0          0          0          0          0          0   \n",
       "3          0          0          0          0          0          0   \n",
       "4          0          0          0          0          0          0   \n",
       "\n",
       "   rides_t-1  pickup_hour  pickup_location_id  target  \n",
       "0          0   2023-01-29                   2       0  \n",
       "1          0   2023-01-30                   2       0  \n",
       "2          0   2023-01-31                   2       0  \n",
       "3          0   2023-02-01                   2       0  \n",
       "4          0   2023-02-02                   2       0  \n",
       "\n",
       "[5 rows x 675 columns]"
      ]
     },
     "execution_count": 2,
     "metadata": {},
     "output_type": "execute_result"
    },
    {
     "name": "stdout",
     "output_type": "stream",
     "text": [
      "(55900, 674)\n",
      "(55900,)\n",
      "(31720, 674)\n",
      "(31720,)\n"
     ]
    }
   ],
   "source": [
    "df = pd.read_parquet(TRANSFORMED_DATA_DIR / \"tabular_data.parquet\")\n",
    "df.head(5)\n",
    "\n",
    "X_train, y_train, X_test, y_test = split_time_series_data(\n",
    "    df,\n",
    "    cutoff_date=datetime(2023, 9, 1, 0, 0, 0),\n",
    "    target_column=\"target\"\n",
    ")\n",
    "\n",
    "print(X_train.shape)\n",
    "print(y_train.shape)\n",
    "print(X_test.shape)\n",
    "print(y_test.shape)"
   ]
  },
  {
   "cell_type": "markdown",
   "metadata": {},
   "source": [
    "Baseline Model using Previous Hour"
   ]
  },
  {
   "cell_type": "code",
   "execution_count": 3,
   "metadata": {},
   "outputs": [
    {
     "name": "stderr",
     "output_type": "stream",
     "text": [
      "INFO:src.experiment_utils:MLflow tracking URI and credentials set.\n"
     ]
    },
    {
     "name": "stdout",
     "output_type": "stream",
     "text": [
      "6.7109\n"
     ]
    },
    {
     "name": "stderr",
     "output_type": "stream",
     "text": [
      "INFO:src.experiment_utils:Experiment set to: BaselineModelPreviousHour\n",
      "INFO:src.experiment_utils:Logged mean_absolute_error: 6.7109394703657\n",
      "c:\\Users\\singh\\Downloads\\CDS500_Applied_ML_DS\\Projects\\CDA500P1\\CDA500P1\\Lib\\site-packages\\mlflow\\types\\utils.py:452: UserWarning: Hint: Inferred schema contains integer column(s). Integer columns in Python cannot represent missing values. If your input data contains missing values at inference time, it will be encoded as floats and will cause a schema enforcement error. The best way to avoid this problem is to infer the model schema based on a realistic data sample (training dataset) that includes missing values. Alternatively, you can declare integer columns as doubles (float64) whenever these columns may have missing values. See `Handling Integers With Missing Values <https://www.mlflow.org/docs/latest/models.html#handling-integers-with-missing-values>`_ for more details.\n",
      "  warnings.warn(\n",
      "INFO:src.experiment_utils:Model signature inferred.\n",
      "c:\\Users\\singh\\Downloads\\CDS500_Applied_ML_DS\\Projects\\CDA500P1\\CDA500P1\\Lib\\site-packages\\tqdm\\auto.py:21: TqdmWarning: IProgress not found. Please update jupyter and ipywidgets. See https://ipywidgets.readthedocs.io/en/stable/user_install.html\n",
      "  from .autonotebook import tqdm as notebook_tqdm\n",
      "Downloading artifacts: 100%|██████████| 7/7 [00:00<00:00, 122.81it/s] \n",
      "2025/03/04 16:52:33 INFO mlflow.models.model: Found the following environment variables used during model inference: [HOPSWORKS_API_KEY]. Please check if you need to set them when deploying the model. To disable this message, set environment variable `MLFLOW_RECORD_ENV_VARS_IN_MODEL_LOGGING` to `false`.\n",
      "Registered model 'BaselineModelPreviousHour' already exists. Creating a new version of this model...\n",
      "2025/03/04 16:55:16 INFO mlflow.store.model_registry.abstract_store: Waiting up to 300 seconds for model version to finish creation. Model name: BaselineModelPreviousHour, version 2\n",
      "Created version '2' of model 'BaselineModelPreviousHour'.\n",
      "INFO:src.experiment_utils:Model logged with name: BaselineModelPreviousHour\n"
     ]
    },
    {
     "name": "stdout",
     "output_type": "stream",
     "text": [
      "🏃 View run skittish-cow-525 at: https://dagshub.com/singhvarunnn789/CDA500P1.mlflow/#/experiments/0/runs/8cac7d7e9d924a988d92dbd321410f90\n",
      "🧪 View experiment at: https://dagshub.com/singhvarunnn789/CDA500P1.mlflow/#/experiments/0\n"
     ]
    },
    {
     "data": {
      "text/plain": [
       "<mlflow.models.model.ModelInfo at 0x1f706e6e420>"
      ]
     },
     "execution_count": 3,
     "metadata": {},
     "output_type": "execute_result"
    }
   ],
   "source": [
    "class BaselineModelPreviousHour:\n",
    "\n",
    "    def fit(self, X_train: pd.DataFrame, y_train: pd.Series):\n",
    "        pass\n",
    "\n",
    "    def predict(self, X_test: pd.DataFrame) -> np.array:\n",
    "        return X_test[\"rides_t-1\"]\n",
    "    \n",
    "\n",
    "model = BaselineModelPreviousHour()\n",
    "predictions = model.predict(X_test)\n",
    "test_mae = mean_absolute_error(y_test, predictions)\n",
    "print(f\"{test_mae:.4f}\")\n",
    "mlflow = set_mlflow_tracking()\n",
    "log_model_to_mlflow(model, X_test, \"BaselineModelPreviousHour\", \"mean_absolute_error\", score=test_mae)"
   ]
  },
  {
   "cell_type": "markdown",
   "metadata": {},
   "source": [
    "Baseline Model using the past week (7 days * 24 hours)"
   ]
  },
  {
   "cell_type": "code",
   "execution_count": 4,
   "metadata": {},
   "outputs": [
    {
     "name": "stderr",
     "output_type": "stream",
     "text": [
      "INFO:src.experiment_utils:Experiment set to: BaselineModelPreviousWeek\n"
     ]
    },
    {
     "name": "stdout",
     "output_type": "stream",
     "text": [
      "5.2301\n"
     ]
    },
    {
     "name": "stderr",
     "output_type": "stream",
     "text": [
      "INFO:src.experiment_utils:Logged mean_absolute_error: 5.230075662042875\n",
      "c:\\Users\\singh\\Downloads\\CDS500_Applied_ML_DS\\Projects\\CDA500P1\\CDA500P1\\Lib\\site-packages\\mlflow\\types\\utils.py:452: UserWarning: Hint: Inferred schema contains integer column(s). Integer columns in Python cannot represent missing values. If your input data contains missing values at inference time, it will be encoded as floats and will cause a schema enforcement error. The best way to avoid this problem is to infer the model schema based on a realistic data sample (training dataset) that includes missing values. Alternatively, you can declare integer columns as doubles (float64) whenever these columns may have missing values. See `Handling Integers With Missing Values <https://www.mlflow.org/docs/latest/models.html#handling-integers-with-missing-values>`_ for more details.\n",
      "  warnings.warn(\n",
      "INFO:src.experiment_utils:Model signature inferred.\n",
      "Downloading artifacts: 100%|██████████| 7/7 [00:00<00:00, 76.09it/s]  \n",
      "Registered model 'BaselineModelPreviousWeek' already exists. Creating a new version of this model...\n",
      "2025/03/04 16:58:31 INFO mlflow.store.model_registry.abstract_store: Waiting up to 300 seconds for model version to finish creation. Model name: BaselineModelPreviousWeek, version 2\n",
      "Created version '2' of model 'BaselineModelPreviousWeek'.\n",
      "INFO:src.experiment_utils:Model logged with name: BaselineModelPreviousWeek\n"
     ]
    },
    {
     "name": "stdout",
     "output_type": "stream",
     "text": [
      "🏃 View run nebulous-ant-665 at: https://dagshub.com/singhvarunnn789/CDA500P1.mlflow/#/experiments/1/runs/1750341a10a04e77ac7b2ff6582791c7\n",
      "🧪 View experiment at: https://dagshub.com/singhvarunnn789/CDA500P1.mlflow/#/experiments/1\n"
     ]
    },
    {
     "data": {
      "text/plain": [
       "<mlflow.models.model.ModelInfo at 0x1f6be137e90>"
      ]
     },
     "execution_count": 4,
     "metadata": {},
     "output_type": "execute_result"
    }
   ],
   "source": [
    "class BaselineModelPreviousWeek:\n",
    "\n",
    "    def fit(self, X_train: pd.DataFrame, y_train: pd.Series):\n",
    "        pass\n",
    "\n",
    "    def predict(self, X_test: pd.DataFrame) -> np.array:\n",
    "        return X_test[f\"rides_t-{7*24}\"]\n",
    "\n",
    "model = BaselineModelPreviousWeek()\n",
    "predictions = model.predict(X_test)\n",
    "\n",
    "test_mae = mean_absolute_error(y_test, predictions)\n",
    "print(f\"{test_mae:.4f}\")\n",
    "\n",
    "log_model_to_mlflow(model, X_test, \"BaselineModelPreviousWeek\", \"mean_absolute_error\", score=test_mae)"
   ]
  },
  {
   "cell_type": "markdown",
   "metadata": {},
   "source": [
    "Baseline Model using Past 4 Weeks (4 Weeks * 7 * 24 split from 0-7-14-21-28)"
   ]
  },
  {
   "cell_type": "code",
   "execution_count": 5,
   "metadata": {},
   "outputs": [
    {
     "data": {
      "text/html": [
       "<div>\n",
       "<style scoped>\n",
       "    .dataframe tbody tr th:only-of-type {\n",
       "        vertical-align: middle;\n",
       "    }\n",
       "\n",
       "    .dataframe tbody tr th {\n",
       "        vertical-align: top;\n",
       "    }\n",
       "\n",
       "    .dataframe thead th {\n",
       "        text-align: right;\n",
       "    }\n",
       "</style>\n",
       "<table border=\"1\" class=\"dataframe\">\n",
       "  <thead>\n",
       "    <tr style=\"text-align: right;\">\n",
       "      <th></th>\n",
       "      <th>rides_t-672</th>\n",
       "      <th>rides_t-671</th>\n",
       "      <th>rides_t-670</th>\n",
       "      <th>rides_t-669</th>\n",
       "      <th>rides_t-668</th>\n",
       "      <th>rides_t-667</th>\n",
       "      <th>rides_t-666</th>\n",
       "      <th>rides_t-665</th>\n",
       "      <th>rides_t-664</th>\n",
       "      <th>rides_t-663</th>\n",
       "      <th>...</th>\n",
       "      <th>rides_t-8</th>\n",
       "      <th>rides_t-7</th>\n",
       "      <th>rides_t-6</th>\n",
       "      <th>rides_t-5</th>\n",
       "      <th>rides_t-4</th>\n",
       "      <th>rides_t-3</th>\n",
       "      <th>rides_t-2</th>\n",
       "      <th>rides_t-1</th>\n",
       "      <th>pickup_hour</th>\n",
       "      <th>pickup_location_id</th>\n",
       "    </tr>\n",
       "  </thead>\n",
       "  <tbody>\n",
       "    <tr>\n",
       "      <th>5002</th>\n",
       "      <td>12</td>\n",
       "      <td>6</td>\n",
       "      <td>1</td>\n",
       "      <td>1</td>\n",
       "      <td>0</td>\n",
       "      <td>7</td>\n",
       "      <td>8</td>\n",
       "      <td>46</td>\n",
       "      <td>41</td>\n",
       "      <td>48</td>\n",
       "      <td>...</td>\n",
       "      <td>131</td>\n",
       "      <td>74</td>\n",
       "      <td>82</td>\n",
       "      <td>62</td>\n",
       "      <td>64</td>\n",
       "      <td>34</td>\n",
       "      <td>38</td>\n",
       "      <td>12</td>\n",
       "      <td>2023-09-01</td>\n",
       "      <td>43</td>\n",
       "    </tr>\n",
       "    <tr>\n",
       "      <th>5003</th>\n",
       "      <td>13</td>\n",
       "      <td>7</td>\n",
       "      <td>1</td>\n",
       "      <td>0</td>\n",
       "      <td>0</td>\n",
       "      <td>4</td>\n",
       "      <td>2</td>\n",
       "      <td>11</td>\n",
       "      <td>28</td>\n",
       "      <td>35</td>\n",
       "      <td>...</td>\n",
       "      <td>122</td>\n",
       "      <td>113</td>\n",
       "      <td>80</td>\n",
       "      <td>107</td>\n",
       "      <td>67</td>\n",
       "      <td>58</td>\n",
       "      <td>39</td>\n",
       "      <td>9</td>\n",
       "      <td>2023-09-02</td>\n",
       "      <td>43</td>\n",
       "    </tr>\n",
       "    <tr>\n",
       "      <th>5004</th>\n",
       "      <td>14</td>\n",
       "      <td>5</td>\n",
       "      <td>3</td>\n",
       "      <td>1</td>\n",
       "      <td>0</td>\n",
       "      <td>3</td>\n",
       "      <td>7</td>\n",
       "      <td>13</td>\n",
       "      <td>12</td>\n",
       "      <td>27</td>\n",
       "      <td>...</td>\n",
       "      <td>174</td>\n",
       "      <td>166</td>\n",
       "      <td>174</td>\n",
       "      <td>142</td>\n",
       "      <td>86</td>\n",
       "      <td>63</td>\n",
       "      <td>53</td>\n",
       "      <td>13</td>\n",
       "      <td>2023-09-03</td>\n",
       "      <td>43</td>\n",
       "    </tr>\n",
       "    <tr>\n",
       "      <th>5005</th>\n",
       "      <td>2</td>\n",
       "      <td>2</td>\n",
       "      <td>0</td>\n",
       "      <td>0</td>\n",
       "      <td>1</td>\n",
       "      <td>5</td>\n",
       "      <td>13</td>\n",
       "      <td>36</td>\n",
       "      <td>34</td>\n",
       "      <td>39</td>\n",
       "      <td>...</td>\n",
       "      <td>169</td>\n",
       "      <td>144</td>\n",
       "      <td>90</td>\n",
       "      <td>61</td>\n",
       "      <td>45</td>\n",
       "      <td>28</td>\n",
       "      <td>31</td>\n",
       "      <td>7</td>\n",
       "      <td>2023-09-04</td>\n",
       "      <td>43</td>\n",
       "    </tr>\n",
       "    <tr>\n",
       "      <th>5006</th>\n",
       "      <td>3</td>\n",
       "      <td>0</td>\n",
       "      <td>0</td>\n",
       "      <td>0</td>\n",
       "      <td>1</td>\n",
       "      <td>4</td>\n",
       "      <td>5</td>\n",
       "      <td>44</td>\n",
       "      <td>61</td>\n",
       "      <td>59</td>\n",
       "      <td>...</td>\n",
       "      <td>136</td>\n",
       "      <td>145</td>\n",
       "      <td>85</td>\n",
       "      <td>46</td>\n",
       "      <td>33</td>\n",
       "      <td>28</td>\n",
       "      <td>9</td>\n",
       "      <td>8</td>\n",
       "      <td>2023-09-05</td>\n",
       "      <td>43</td>\n",
       "    </tr>\n",
       "  </tbody>\n",
       "</table>\n",
       "<p>5 rows × 674 columns</p>\n",
       "</div>"
      ],
      "text/plain": [
       "      rides_t-672  rides_t-671  rides_t-670  rides_t-669  rides_t-668  \\\n",
       "5002           12            6            1            1            0   \n",
       "5003           13            7            1            0            0   \n",
       "5004           14            5            3            1            0   \n",
       "5005            2            2            0            0            1   \n",
       "5006            3            0            0            0            1   \n",
       "\n",
       "      rides_t-667  rides_t-666  rides_t-665  rides_t-664  rides_t-663  ...  \\\n",
       "5002            7            8           46           41           48  ...   \n",
       "5003            4            2           11           28           35  ...   \n",
       "5004            3            7           13           12           27  ...   \n",
       "5005            5           13           36           34           39  ...   \n",
       "5006            4            5           44           61           59  ...   \n",
       "\n",
       "      rides_t-8  rides_t-7  rides_t-6  rides_t-5  rides_t-4  rides_t-3  \\\n",
       "5002        131         74         82         62         64         34   \n",
       "5003        122        113         80        107         67         58   \n",
       "5004        174        166        174        142         86         63   \n",
       "5005        169        144         90         61         45         28   \n",
       "5006        136        145         85         46         33         28   \n",
       "\n",
       "      rides_t-2  rides_t-1  pickup_hour  pickup_location_id  \n",
       "5002         38         12   2023-09-01                  43  \n",
       "5003         39          9   2023-09-02                  43  \n",
       "5004         53         13   2023-09-03                  43  \n",
       "5005         31          7   2023-09-04                  43  \n",
       "5006          9          8   2023-09-05                  43  \n",
       "\n",
       "[5 rows x 674 columns]"
      ]
     },
     "execution_count": 5,
     "metadata": {},
     "output_type": "execute_result"
    },
    {
     "name": "stderr",
     "output_type": "stream",
     "text": [
      "INFO:src.experiment_utils:Experiment set to: BaselineModelLast4Weeks\n"
     ]
    },
    {
     "name": "stdout",
     "output_type": "stream",
     "text": [
      "4.5444\n"
     ]
    },
    {
     "name": "stderr",
     "output_type": "stream",
     "text": [
      "INFO:src.experiment_utils:Logged mean_absolute_error: 4.5443647540983605\n",
      "c:\\Users\\singh\\Downloads\\CDS500_Applied_ML_DS\\Projects\\CDA500P1\\CDA500P1\\Lib\\site-packages\\mlflow\\types\\utils.py:452: UserWarning: Hint: Inferred schema contains integer column(s). Integer columns in Python cannot represent missing values. If your input data contains missing values at inference time, it will be encoded as floats and will cause a schema enforcement error. The best way to avoid this problem is to infer the model schema based on a realistic data sample (training dataset) that includes missing values. Alternatively, you can declare integer columns as doubles (float64) whenever these columns may have missing values. See `Handling Integers With Missing Values <https://www.mlflow.org/docs/latest/models.html#handling-integers-with-missing-values>`_ for more details.\n",
      "  warnings.warn(\n",
      "INFO:src.experiment_utils:Model signature inferred.\n",
      "Downloading artifacts: 100%|██████████| 7/7 [00:00<00:00, 70.00it/s]  \n",
      "Registered model 'BaselineModelLast4Weeks' already exists. Creating a new version of this model...\n",
      "2025/03/04 17:01:46 INFO mlflow.store.model_registry.abstract_store: Waiting up to 300 seconds for model version to finish creation. Model name: BaselineModelLast4Weeks, version 2\n",
      "Created version '2' of model 'BaselineModelLast4Weeks'.\n",
      "INFO:src.experiment_utils:Model logged with name: BaselineModelLast4Weeks\n"
     ]
    },
    {
     "name": "stdout",
     "output_type": "stream",
     "text": [
      "🏃 View run magnificent-frog-783 at: https://dagshub.com/singhvarunnn789/CDA500P1.mlflow/#/experiments/2/runs/edfad40ecfeb4883b6efd9a9717f7b15\n",
      "🧪 View experiment at: https://dagshub.com/singhvarunnn789/CDA500P1.mlflow/#/experiments/2\n"
     ]
    },
    {
     "data": {
      "text/plain": [
       "<mlflow.models.model.ModelInfo at 0x1f69a13b7a0>"
      ]
     },
     "execution_count": 5,
     "metadata": {},
     "output_type": "execute_result"
    }
   ],
   "source": [
    "class BaselineModelLast4Weeks:\n",
    "    \"\"\"\n",
    "    A baseline model that predicts the average of the last 4 weeks (28 days)\n",
    "    for each test instance.\n",
    "    \"\"\"\n",
    "\n",
    "    def fit(self, X_train: pd.DataFrame, y_train: pd.Series):\n",
    "        \"\"\"\n",
    "        The fit method is not used in this baseline model as it does not learn\n",
    "        from the training data.\n",
    "        \"\"\"\n",
    "        pass\n",
    "\n",
    "    def predict(self, X_test: pd.DataFrame) -> np.array:\n",
    "        \"\"\"\n",
    "        Predicts the average of the last 4 weeks (28 days) for each test instance.\n",
    "\n",
    "        Parameters:\n",
    "            X_test (pd.DataFrame): The test DataFrame containing lagged features\n",
    "                                   (e.g., rides_t-{7*24}, rides_t-{14*24}, etc.).\n",
    "\n",
    "        Returns:\n",
    "            np.array: An array of predictions based on the average of the last 4 weeks.\n",
    "        \"\"\"\n",
    "        # Define the columns for the last 4 weeks\n",
    "        last_4_weeks_columns = [\n",
    "            f\"rides_t-{7*24}\",  # 1 week ago\n",
    "            f\"rides_t-{14*24}\", # 2 weeks ago\n",
    "            f\"rides_t-{21*24}\", # 3 weeks ago\n",
    "            f\"rides_t-{28*24}\"  # 4 weeks ago\n",
    "        ]\n",
    "\n",
    "        # Ensure the required columns exist in the test DataFrame\n",
    "        for col in last_4_weeks_columns:\n",
    "            if col not in X_test.columns:\n",
    "                raise ValueError(f\"Missing required column: {col}\")\n",
    "\n",
    "        # Calculate the average of the last 4 weeks\n",
    "        predictions = X_test[last_4_weeks_columns].mean(axis=1)\n",
    "\n",
    "        return predictions.to_numpy()\n",
    "    \n",
    "model = BaselineModelLast4Weeks()\n",
    "predictions = model.predict(X_test)\n",
    "\n",
    "X_test[X_test['pickup_location_id']==43].head()\n",
    "test_mae = mean_absolute_error(y_test, predictions)\n",
    "print(f\"{test_mae:.4f}\")\n",
    "log_model_to_mlflow(model, X_test, \"BaselineModelLast4Weeks\", \"mean_absolute_error\", score=test_mae)"
   ]
  },
  {
   "cell_type": "markdown",
   "metadata": {},
   "source": [
    "Plotting prediction from the latest baseline model (4 weeks)"
   ]
  },
  {
   "cell_type": "code",
   "execution_count": 6,
   "metadata": {},
   "outputs": [
    {
     "data": {
      "application/vnd.plotly.v1+json": {
       "config": {
        "plotlyServerURL": "https://plot.ly"
       },
       "data": [
        {
         "hovertemplate": "Time=%{x}<br>Ride Counts=%{y}<extra></extra>",
         "legendgroup": "",
         "line": {
          "color": "#636efa",
          "dash": "solid"
         },
         "marker": {
          "symbol": "circle"
         },
         "mode": "lines+markers",
         "name": "",
         "orientation": "v",
         "showlegend": false,
         "type": "scatter",
         "x": [
          "2023-08-04T00:00:00.000000000",
          "2023-08-04T01:00:00.000000000",
          "2023-08-04T02:00:00.000000000",
          "2023-08-04T03:00:00.000000000",
          "2023-08-04T04:00:00.000000000",
          "2023-08-04T05:00:00.000000000",
          "2023-08-04T06:00:00.000000000",
          "2023-08-04T07:00:00.000000000",
          "2023-08-04T08:00:00.000000000",
          "2023-08-04T09:00:00.000000000",
          "2023-08-04T10:00:00.000000000",
          "2023-08-04T11:00:00.000000000",
          "2023-08-04T12:00:00.000000000",
          "2023-08-04T13:00:00.000000000",
          "2023-08-04T14:00:00.000000000",
          "2023-08-04T15:00:00.000000000",
          "2023-08-04T16:00:00.000000000",
          "2023-08-04T17:00:00.000000000",
          "2023-08-04T18:00:00.000000000",
          "2023-08-04T19:00:00.000000000",
          "2023-08-04T20:00:00.000000000",
          "2023-08-04T21:00:00.000000000",
          "2023-08-04T22:00:00.000000000",
          "2023-08-04T23:00:00.000000000",
          "2023-08-05T00:00:00.000000000",
          "2023-08-05T01:00:00.000000000",
          "2023-08-05T02:00:00.000000000",
          "2023-08-05T03:00:00.000000000",
          "2023-08-05T04:00:00.000000000",
          "2023-08-05T05:00:00.000000000",
          "2023-08-05T06:00:00.000000000",
          "2023-08-05T07:00:00.000000000",
          "2023-08-05T08:00:00.000000000",
          "2023-08-05T09:00:00.000000000",
          "2023-08-05T10:00:00.000000000",
          "2023-08-05T11:00:00.000000000",
          "2023-08-05T12:00:00.000000000",
          "2023-08-05T13:00:00.000000000",
          "2023-08-05T14:00:00.000000000",
          "2023-08-05T15:00:00.000000000",
          "2023-08-05T16:00:00.000000000",
          "2023-08-05T17:00:00.000000000",
          "2023-08-05T18:00:00.000000000",
          "2023-08-05T19:00:00.000000000",
          "2023-08-05T20:00:00.000000000",
          "2023-08-05T21:00:00.000000000",
          "2023-08-05T22:00:00.000000000",
          "2023-08-05T23:00:00.000000000",
          "2023-08-06T00:00:00.000000000",
          "2023-08-06T01:00:00.000000000",
          "2023-08-06T02:00:00.000000000",
          "2023-08-06T03:00:00.000000000",
          "2023-08-06T04:00:00.000000000",
          "2023-08-06T05:00:00.000000000",
          "2023-08-06T06:00:00.000000000",
          "2023-08-06T07:00:00.000000000",
          "2023-08-06T08:00:00.000000000",
          "2023-08-06T09:00:00.000000000",
          "2023-08-06T10:00:00.000000000",
          "2023-08-06T11:00:00.000000000",
          "2023-08-06T12:00:00.000000000",
          "2023-08-06T13:00:00.000000000",
          "2023-08-06T14:00:00.000000000",
          "2023-08-06T15:00:00.000000000",
          "2023-08-06T16:00:00.000000000",
          "2023-08-06T17:00:00.000000000",
          "2023-08-06T18:00:00.000000000",
          "2023-08-06T19:00:00.000000000",
          "2023-08-06T20:00:00.000000000",
          "2023-08-06T21:00:00.000000000",
          "2023-08-06T22:00:00.000000000",
          "2023-08-06T23:00:00.000000000",
          "2023-08-07T00:00:00.000000000",
          "2023-08-07T01:00:00.000000000",
          "2023-08-07T02:00:00.000000000",
          "2023-08-07T03:00:00.000000000",
          "2023-08-07T04:00:00.000000000",
          "2023-08-07T05:00:00.000000000",
          "2023-08-07T06:00:00.000000000",
          "2023-08-07T07:00:00.000000000",
          "2023-08-07T08:00:00.000000000",
          "2023-08-07T09:00:00.000000000",
          "2023-08-07T10:00:00.000000000",
          "2023-08-07T11:00:00.000000000",
          "2023-08-07T12:00:00.000000000",
          "2023-08-07T13:00:00.000000000",
          "2023-08-07T14:00:00.000000000",
          "2023-08-07T15:00:00.000000000",
          "2023-08-07T16:00:00.000000000",
          "2023-08-07T17:00:00.000000000",
          "2023-08-07T18:00:00.000000000",
          "2023-08-07T19:00:00.000000000",
          "2023-08-07T20:00:00.000000000",
          "2023-08-07T21:00:00.000000000",
          "2023-08-07T22:00:00.000000000",
          "2023-08-07T23:00:00.000000000",
          "2023-08-08T00:00:00.000000000",
          "2023-08-08T01:00:00.000000000",
          "2023-08-08T02:00:00.000000000",
          "2023-08-08T03:00:00.000000000",
          "2023-08-08T04:00:00.000000000",
          "2023-08-08T05:00:00.000000000",
          "2023-08-08T06:00:00.000000000",
          "2023-08-08T07:00:00.000000000",
          "2023-08-08T08:00:00.000000000",
          "2023-08-08T09:00:00.000000000",
          "2023-08-08T10:00:00.000000000",
          "2023-08-08T11:00:00.000000000",
          "2023-08-08T12:00:00.000000000",
          "2023-08-08T13:00:00.000000000",
          "2023-08-08T14:00:00.000000000",
          "2023-08-08T15:00:00.000000000",
          "2023-08-08T16:00:00.000000000",
          "2023-08-08T17:00:00.000000000",
          "2023-08-08T18:00:00.000000000",
          "2023-08-08T19:00:00.000000000",
          "2023-08-08T20:00:00.000000000",
          "2023-08-08T21:00:00.000000000",
          "2023-08-08T22:00:00.000000000",
          "2023-08-08T23:00:00.000000000",
          "2023-08-09T00:00:00.000000000",
          "2023-08-09T01:00:00.000000000",
          "2023-08-09T02:00:00.000000000",
          "2023-08-09T03:00:00.000000000",
          "2023-08-09T04:00:00.000000000",
          "2023-08-09T05:00:00.000000000",
          "2023-08-09T06:00:00.000000000",
          "2023-08-09T07:00:00.000000000",
          "2023-08-09T08:00:00.000000000",
          "2023-08-09T09:00:00.000000000",
          "2023-08-09T10:00:00.000000000",
          "2023-08-09T11:00:00.000000000",
          "2023-08-09T12:00:00.000000000",
          "2023-08-09T13:00:00.000000000",
          "2023-08-09T14:00:00.000000000",
          "2023-08-09T15:00:00.000000000",
          "2023-08-09T16:00:00.000000000",
          "2023-08-09T17:00:00.000000000",
          "2023-08-09T18:00:00.000000000",
          "2023-08-09T19:00:00.000000000",
          "2023-08-09T20:00:00.000000000",
          "2023-08-09T21:00:00.000000000",
          "2023-08-09T22:00:00.000000000",
          "2023-08-09T23:00:00.000000000",
          "2023-08-10T00:00:00.000000000",
          "2023-08-10T01:00:00.000000000",
          "2023-08-10T02:00:00.000000000",
          "2023-08-10T03:00:00.000000000",
          "2023-08-10T04:00:00.000000000",
          "2023-08-10T05:00:00.000000000",
          "2023-08-10T06:00:00.000000000",
          "2023-08-10T07:00:00.000000000",
          "2023-08-10T08:00:00.000000000",
          "2023-08-10T09:00:00.000000000",
          "2023-08-10T10:00:00.000000000",
          "2023-08-10T11:00:00.000000000",
          "2023-08-10T12:00:00.000000000",
          "2023-08-10T13:00:00.000000000",
          "2023-08-10T14:00:00.000000000",
          "2023-08-10T15:00:00.000000000",
          "2023-08-10T16:00:00.000000000",
          "2023-08-10T17:00:00.000000000",
          "2023-08-10T18:00:00.000000000",
          "2023-08-10T19:00:00.000000000",
          "2023-08-10T20:00:00.000000000",
          "2023-08-10T21:00:00.000000000",
          "2023-08-10T22:00:00.000000000",
          "2023-08-10T23:00:00.000000000",
          "2023-08-11T00:00:00.000000000",
          "2023-08-11T01:00:00.000000000",
          "2023-08-11T02:00:00.000000000",
          "2023-08-11T03:00:00.000000000",
          "2023-08-11T04:00:00.000000000",
          "2023-08-11T05:00:00.000000000",
          "2023-08-11T06:00:00.000000000",
          "2023-08-11T07:00:00.000000000",
          "2023-08-11T08:00:00.000000000",
          "2023-08-11T09:00:00.000000000",
          "2023-08-11T10:00:00.000000000",
          "2023-08-11T11:00:00.000000000",
          "2023-08-11T12:00:00.000000000",
          "2023-08-11T13:00:00.000000000",
          "2023-08-11T14:00:00.000000000",
          "2023-08-11T15:00:00.000000000",
          "2023-08-11T16:00:00.000000000",
          "2023-08-11T17:00:00.000000000",
          "2023-08-11T18:00:00.000000000",
          "2023-08-11T19:00:00.000000000",
          "2023-08-11T20:00:00.000000000",
          "2023-08-11T21:00:00.000000000",
          "2023-08-11T22:00:00.000000000",
          "2023-08-11T23:00:00.000000000",
          "2023-08-12T00:00:00.000000000",
          "2023-08-12T01:00:00.000000000",
          "2023-08-12T02:00:00.000000000",
          "2023-08-12T03:00:00.000000000",
          "2023-08-12T04:00:00.000000000",
          "2023-08-12T05:00:00.000000000",
          "2023-08-12T06:00:00.000000000",
          "2023-08-12T07:00:00.000000000",
          "2023-08-12T08:00:00.000000000",
          "2023-08-12T09:00:00.000000000",
          "2023-08-12T10:00:00.000000000",
          "2023-08-12T11:00:00.000000000",
          "2023-08-12T12:00:00.000000000",
          "2023-08-12T13:00:00.000000000",
          "2023-08-12T14:00:00.000000000",
          "2023-08-12T15:00:00.000000000",
          "2023-08-12T16:00:00.000000000",
          "2023-08-12T17:00:00.000000000",
          "2023-08-12T18:00:00.000000000",
          "2023-08-12T19:00:00.000000000",
          "2023-08-12T20:00:00.000000000",
          "2023-08-12T21:00:00.000000000",
          "2023-08-12T22:00:00.000000000",
          "2023-08-12T23:00:00.000000000",
          "2023-08-13T00:00:00.000000000",
          "2023-08-13T01:00:00.000000000",
          "2023-08-13T02:00:00.000000000",
          "2023-08-13T03:00:00.000000000",
          "2023-08-13T04:00:00.000000000",
          "2023-08-13T05:00:00.000000000",
          "2023-08-13T06:00:00.000000000",
          "2023-08-13T07:00:00.000000000",
          "2023-08-13T08:00:00.000000000",
          "2023-08-13T09:00:00.000000000",
          "2023-08-13T10:00:00.000000000",
          "2023-08-13T11:00:00.000000000",
          "2023-08-13T12:00:00.000000000",
          "2023-08-13T13:00:00.000000000",
          "2023-08-13T14:00:00.000000000",
          "2023-08-13T15:00:00.000000000",
          "2023-08-13T16:00:00.000000000",
          "2023-08-13T17:00:00.000000000",
          "2023-08-13T18:00:00.000000000",
          "2023-08-13T19:00:00.000000000",
          "2023-08-13T20:00:00.000000000",
          "2023-08-13T21:00:00.000000000",
          "2023-08-13T22:00:00.000000000",
          "2023-08-13T23:00:00.000000000",
          "2023-08-14T00:00:00.000000000",
          "2023-08-14T01:00:00.000000000",
          "2023-08-14T02:00:00.000000000",
          "2023-08-14T03:00:00.000000000",
          "2023-08-14T04:00:00.000000000",
          "2023-08-14T05:00:00.000000000",
          "2023-08-14T06:00:00.000000000",
          "2023-08-14T07:00:00.000000000",
          "2023-08-14T08:00:00.000000000",
          "2023-08-14T09:00:00.000000000",
          "2023-08-14T10:00:00.000000000",
          "2023-08-14T11:00:00.000000000",
          "2023-08-14T12:00:00.000000000",
          "2023-08-14T13:00:00.000000000",
          "2023-08-14T14:00:00.000000000",
          "2023-08-14T15:00:00.000000000",
          "2023-08-14T16:00:00.000000000",
          "2023-08-14T17:00:00.000000000",
          "2023-08-14T18:00:00.000000000",
          "2023-08-14T19:00:00.000000000",
          "2023-08-14T20:00:00.000000000",
          "2023-08-14T21:00:00.000000000",
          "2023-08-14T22:00:00.000000000",
          "2023-08-14T23:00:00.000000000",
          "2023-08-15T00:00:00.000000000",
          "2023-08-15T01:00:00.000000000",
          "2023-08-15T02:00:00.000000000",
          "2023-08-15T03:00:00.000000000",
          "2023-08-15T04:00:00.000000000",
          "2023-08-15T05:00:00.000000000",
          "2023-08-15T06:00:00.000000000",
          "2023-08-15T07:00:00.000000000",
          "2023-08-15T08:00:00.000000000",
          "2023-08-15T09:00:00.000000000",
          "2023-08-15T10:00:00.000000000",
          "2023-08-15T11:00:00.000000000",
          "2023-08-15T12:00:00.000000000",
          "2023-08-15T13:00:00.000000000",
          "2023-08-15T14:00:00.000000000",
          "2023-08-15T15:00:00.000000000",
          "2023-08-15T16:00:00.000000000",
          "2023-08-15T17:00:00.000000000",
          "2023-08-15T18:00:00.000000000",
          "2023-08-15T19:00:00.000000000",
          "2023-08-15T20:00:00.000000000",
          "2023-08-15T21:00:00.000000000",
          "2023-08-15T22:00:00.000000000",
          "2023-08-15T23:00:00.000000000",
          "2023-08-16T00:00:00.000000000",
          "2023-08-16T01:00:00.000000000",
          "2023-08-16T02:00:00.000000000",
          "2023-08-16T03:00:00.000000000",
          "2023-08-16T04:00:00.000000000",
          "2023-08-16T05:00:00.000000000",
          "2023-08-16T06:00:00.000000000",
          "2023-08-16T07:00:00.000000000",
          "2023-08-16T08:00:00.000000000",
          "2023-08-16T09:00:00.000000000",
          "2023-08-16T10:00:00.000000000",
          "2023-08-16T11:00:00.000000000",
          "2023-08-16T12:00:00.000000000",
          "2023-08-16T13:00:00.000000000",
          "2023-08-16T14:00:00.000000000",
          "2023-08-16T15:00:00.000000000",
          "2023-08-16T16:00:00.000000000",
          "2023-08-16T17:00:00.000000000",
          "2023-08-16T18:00:00.000000000",
          "2023-08-16T19:00:00.000000000",
          "2023-08-16T20:00:00.000000000",
          "2023-08-16T21:00:00.000000000",
          "2023-08-16T22:00:00.000000000",
          "2023-08-16T23:00:00.000000000",
          "2023-08-17T00:00:00.000000000",
          "2023-08-17T01:00:00.000000000",
          "2023-08-17T02:00:00.000000000",
          "2023-08-17T03:00:00.000000000",
          "2023-08-17T04:00:00.000000000",
          "2023-08-17T05:00:00.000000000",
          "2023-08-17T06:00:00.000000000",
          "2023-08-17T07:00:00.000000000",
          "2023-08-17T08:00:00.000000000",
          "2023-08-17T09:00:00.000000000",
          "2023-08-17T10:00:00.000000000",
          "2023-08-17T11:00:00.000000000",
          "2023-08-17T12:00:00.000000000",
          "2023-08-17T13:00:00.000000000",
          "2023-08-17T14:00:00.000000000",
          "2023-08-17T15:00:00.000000000",
          "2023-08-17T16:00:00.000000000",
          "2023-08-17T17:00:00.000000000",
          "2023-08-17T18:00:00.000000000",
          "2023-08-17T19:00:00.000000000",
          "2023-08-17T20:00:00.000000000",
          "2023-08-17T21:00:00.000000000",
          "2023-08-17T22:00:00.000000000",
          "2023-08-17T23:00:00.000000000",
          "2023-08-18T00:00:00.000000000",
          "2023-08-18T01:00:00.000000000",
          "2023-08-18T02:00:00.000000000",
          "2023-08-18T03:00:00.000000000",
          "2023-08-18T04:00:00.000000000",
          "2023-08-18T05:00:00.000000000",
          "2023-08-18T06:00:00.000000000",
          "2023-08-18T07:00:00.000000000",
          "2023-08-18T08:00:00.000000000",
          "2023-08-18T09:00:00.000000000",
          "2023-08-18T10:00:00.000000000",
          "2023-08-18T11:00:00.000000000",
          "2023-08-18T12:00:00.000000000",
          "2023-08-18T13:00:00.000000000",
          "2023-08-18T14:00:00.000000000",
          "2023-08-18T15:00:00.000000000",
          "2023-08-18T16:00:00.000000000",
          "2023-08-18T17:00:00.000000000",
          "2023-08-18T18:00:00.000000000",
          "2023-08-18T19:00:00.000000000",
          "2023-08-18T20:00:00.000000000",
          "2023-08-18T21:00:00.000000000",
          "2023-08-18T22:00:00.000000000",
          "2023-08-18T23:00:00.000000000",
          "2023-08-19T00:00:00.000000000",
          "2023-08-19T01:00:00.000000000",
          "2023-08-19T02:00:00.000000000",
          "2023-08-19T03:00:00.000000000",
          "2023-08-19T04:00:00.000000000",
          "2023-08-19T05:00:00.000000000",
          "2023-08-19T06:00:00.000000000",
          "2023-08-19T07:00:00.000000000",
          "2023-08-19T08:00:00.000000000",
          "2023-08-19T09:00:00.000000000",
          "2023-08-19T10:00:00.000000000",
          "2023-08-19T11:00:00.000000000",
          "2023-08-19T12:00:00.000000000",
          "2023-08-19T13:00:00.000000000",
          "2023-08-19T14:00:00.000000000",
          "2023-08-19T15:00:00.000000000",
          "2023-08-19T16:00:00.000000000",
          "2023-08-19T17:00:00.000000000",
          "2023-08-19T18:00:00.000000000",
          "2023-08-19T19:00:00.000000000",
          "2023-08-19T20:00:00.000000000",
          "2023-08-19T21:00:00.000000000",
          "2023-08-19T22:00:00.000000000",
          "2023-08-19T23:00:00.000000000",
          "2023-08-20T00:00:00.000000000",
          "2023-08-20T01:00:00.000000000",
          "2023-08-20T02:00:00.000000000",
          "2023-08-20T03:00:00.000000000",
          "2023-08-20T04:00:00.000000000",
          "2023-08-20T05:00:00.000000000",
          "2023-08-20T06:00:00.000000000",
          "2023-08-20T07:00:00.000000000",
          "2023-08-20T08:00:00.000000000",
          "2023-08-20T09:00:00.000000000",
          "2023-08-20T10:00:00.000000000",
          "2023-08-20T11:00:00.000000000",
          "2023-08-20T12:00:00.000000000",
          "2023-08-20T13:00:00.000000000",
          "2023-08-20T14:00:00.000000000",
          "2023-08-20T15:00:00.000000000",
          "2023-08-20T16:00:00.000000000",
          "2023-08-20T17:00:00.000000000",
          "2023-08-20T18:00:00.000000000",
          "2023-08-20T19:00:00.000000000",
          "2023-08-20T20:00:00.000000000",
          "2023-08-20T21:00:00.000000000",
          "2023-08-20T22:00:00.000000000",
          "2023-08-20T23:00:00.000000000",
          "2023-08-21T00:00:00.000000000",
          "2023-08-21T01:00:00.000000000",
          "2023-08-21T02:00:00.000000000",
          "2023-08-21T03:00:00.000000000",
          "2023-08-21T04:00:00.000000000",
          "2023-08-21T05:00:00.000000000",
          "2023-08-21T06:00:00.000000000",
          "2023-08-21T07:00:00.000000000",
          "2023-08-21T08:00:00.000000000",
          "2023-08-21T09:00:00.000000000",
          "2023-08-21T10:00:00.000000000",
          "2023-08-21T11:00:00.000000000",
          "2023-08-21T12:00:00.000000000",
          "2023-08-21T13:00:00.000000000",
          "2023-08-21T14:00:00.000000000",
          "2023-08-21T15:00:00.000000000",
          "2023-08-21T16:00:00.000000000",
          "2023-08-21T17:00:00.000000000",
          "2023-08-21T18:00:00.000000000",
          "2023-08-21T19:00:00.000000000",
          "2023-08-21T20:00:00.000000000",
          "2023-08-21T21:00:00.000000000",
          "2023-08-21T22:00:00.000000000",
          "2023-08-21T23:00:00.000000000",
          "2023-08-22T00:00:00.000000000",
          "2023-08-22T01:00:00.000000000",
          "2023-08-22T02:00:00.000000000",
          "2023-08-22T03:00:00.000000000",
          "2023-08-22T04:00:00.000000000",
          "2023-08-22T05:00:00.000000000",
          "2023-08-22T06:00:00.000000000",
          "2023-08-22T07:00:00.000000000",
          "2023-08-22T08:00:00.000000000",
          "2023-08-22T09:00:00.000000000",
          "2023-08-22T10:00:00.000000000",
          "2023-08-22T11:00:00.000000000",
          "2023-08-22T12:00:00.000000000",
          "2023-08-22T13:00:00.000000000",
          "2023-08-22T14:00:00.000000000",
          "2023-08-22T15:00:00.000000000",
          "2023-08-22T16:00:00.000000000",
          "2023-08-22T17:00:00.000000000",
          "2023-08-22T18:00:00.000000000",
          "2023-08-22T19:00:00.000000000",
          "2023-08-22T20:00:00.000000000",
          "2023-08-22T21:00:00.000000000",
          "2023-08-22T22:00:00.000000000",
          "2023-08-22T23:00:00.000000000",
          "2023-08-23T00:00:00.000000000",
          "2023-08-23T01:00:00.000000000",
          "2023-08-23T02:00:00.000000000",
          "2023-08-23T03:00:00.000000000",
          "2023-08-23T04:00:00.000000000",
          "2023-08-23T05:00:00.000000000",
          "2023-08-23T06:00:00.000000000",
          "2023-08-23T07:00:00.000000000",
          "2023-08-23T08:00:00.000000000",
          "2023-08-23T09:00:00.000000000",
          "2023-08-23T10:00:00.000000000",
          "2023-08-23T11:00:00.000000000",
          "2023-08-23T12:00:00.000000000",
          "2023-08-23T13:00:00.000000000",
          "2023-08-23T14:00:00.000000000",
          "2023-08-23T15:00:00.000000000",
          "2023-08-23T16:00:00.000000000",
          "2023-08-23T17:00:00.000000000",
          "2023-08-23T18:00:00.000000000",
          "2023-08-23T19:00:00.000000000",
          "2023-08-23T20:00:00.000000000",
          "2023-08-23T21:00:00.000000000",
          "2023-08-23T22:00:00.000000000",
          "2023-08-23T23:00:00.000000000",
          "2023-08-24T00:00:00.000000000",
          "2023-08-24T01:00:00.000000000",
          "2023-08-24T02:00:00.000000000",
          "2023-08-24T03:00:00.000000000",
          "2023-08-24T04:00:00.000000000",
          "2023-08-24T05:00:00.000000000",
          "2023-08-24T06:00:00.000000000",
          "2023-08-24T07:00:00.000000000",
          "2023-08-24T08:00:00.000000000",
          "2023-08-24T09:00:00.000000000",
          "2023-08-24T10:00:00.000000000",
          "2023-08-24T11:00:00.000000000",
          "2023-08-24T12:00:00.000000000",
          "2023-08-24T13:00:00.000000000",
          "2023-08-24T14:00:00.000000000",
          "2023-08-24T15:00:00.000000000",
          "2023-08-24T16:00:00.000000000",
          "2023-08-24T17:00:00.000000000",
          "2023-08-24T18:00:00.000000000",
          "2023-08-24T19:00:00.000000000",
          "2023-08-24T20:00:00.000000000",
          "2023-08-24T21:00:00.000000000",
          "2023-08-24T22:00:00.000000000",
          "2023-08-24T23:00:00.000000000",
          "2023-08-25T00:00:00.000000000",
          "2023-08-25T01:00:00.000000000",
          "2023-08-25T02:00:00.000000000",
          "2023-08-25T03:00:00.000000000",
          "2023-08-25T04:00:00.000000000",
          "2023-08-25T05:00:00.000000000",
          "2023-08-25T06:00:00.000000000",
          "2023-08-25T07:00:00.000000000",
          "2023-08-25T08:00:00.000000000",
          "2023-08-25T09:00:00.000000000",
          "2023-08-25T10:00:00.000000000",
          "2023-08-25T11:00:00.000000000",
          "2023-08-25T12:00:00.000000000",
          "2023-08-25T13:00:00.000000000",
          "2023-08-25T14:00:00.000000000",
          "2023-08-25T15:00:00.000000000",
          "2023-08-25T16:00:00.000000000",
          "2023-08-25T17:00:00.000000000",
          "2023-08-25T18:00:00.000000000",
          "2023-08-25T19:00:00.000000000",
          "2023-08-25T20:00:00.000000000",
          "2023-08-25T21:00:00.000000000",
          "2023-08-25T22:00:00.000000000",
          "2023-08-25T23:00:00.000000000",
          "2023-08-26T00:00:00.000000000",
          "2023-08-26T01:00:00.000000000",
          "2023-08-26T02:00:00.000000000",
          "2023-08-26T03:00:00.000000000",
          "2023-08-26T04:00:00.000000000",
          "2023-08-26T05:00:00.000000000",
          "2023-08-26T06:00:00.000000000",
          "2023-08-26T07:00:00.000000000",
          "2023-08-26T08:00:00.000000000",
          "2023-08-26T09:00:00.000000000",
          "2023-08-26T10:00:00.000000000",
          "2023-08-26T11:00:00.000000000",
          "2023-08-26T12:00:00.000000000",
          "2023-08-26T13:00:00.000000000",
          "2023-08-26T14:00:00.000000000",
          "2023-08-26T15:00:00.000000000",
          "2023-08-26T16:00:00.000000000",
          "2023-08-26T17:00:00.000000000",
          "2023-08-26T18:00:00.000000000",
          "2023-08-26T19:00:00.000000000",
          "2023-08-26T20:00:00.000000000",
          "2023-08-26T21:00:00.000000000",
          "2023-08-26T22:00:00.000000000",
          "2023-08-26T23:00:00.000000000",
          "2023-08-27T00:00:00.000000000",
          "2023-08-27T01:00:00.000000000",
          "2023-08-27T02:00:00.000000000",
          "2023-08-27T03:00:00.000000000",
          "2023-08-27T04:00:00.000000000",
          "2023-08-27T05:00:00.000000000",
          "2023-08-27T06:00:00.000000000",
          "2023-08-27T07:00:00.000000000",
          "2023-08-27T08:00:00.000000000",
          "2023-08-27T09:00:00.000000000",
          "2023-08-27T10:00:00.000000000",
          "2023-08-27T11:00:00.000000000",
          "2023-08-27T12:00:00.000000000",
          "2023-08-27T13:00:00.000000000",
          "2023-08-27T14:00:00.000000000",
          "2023-08-27T15:00:00.000000000",
          "2023-08-27T16:00:00.000000000",
          "2023-08-27T17:00:00.000000000",
          "2023-08-27T18:00:00.000000000",
          "2023-08-27T19:00:00.000000000",
          "2023-08-27T20:00:00.000000000",
          "2023-08-27T21:00:00.000000000",
          "2023-08-27T22:00:00.000000000",
          "2023-08-27T23:00:00.000000000",
          "2023-08-28T00:00:00.000000000",
          "2023-08-28T01:00:00.000000000",
          "2023-08-28T02:00:00.000000000",
          "2023-08-28T03:00:00.000000000",
          "2023-08-28T04:00:00.000000000",
          "2023-08-28T05:00:00.000000000",
          "2023-08-28T06:00:00.000000000",
          "2023-08-28T07:00:00.000000000",
          "2023-08-28T08:00:00.000000000",
          "2023-08-28T09:00:00.000000000",
          "2023-08-28T10:00:00.000000000",
          "2023-08-28T11:00:00.000000000",
          "2023-08-28T12:00:00.000000000",
          "2023-08-28T13:00:00.000000000",
          "2023-08-28T14:00:00.000000000",
          "2023-08-28T15:00:00.000000000",
          "2023-08-28T16:00:00.000000000",
          "2023-08-28T17:00:00.000000000",
          "2023-08-28T18:00:00.000000000",
          "2023-08-28T19:00:00.000000000",
          "2023-08-28T20:00:00.000000000",
          "2023-08-28T21:00:00.000000000",
          "2023-08-28T22:00:00.000000000",
          "2023-08-28T23:00:00.000000000",
          "2023-08-29T00:00:00.000000000",
          "2023-08-29T01:00:00.000000000",
          "2023-08-29T02:00:00.000000000",
          "2023-08-29T03:00:00.000000000",
          "2023-08-29T04:00:00.000000000",
          "2023-08-29T05:00:00.000000000",
          "2023-08-29T06:00:00.000000000",
          "2023-08-29T07:00:00.000000000",
          "2023-08-29T08:00:00.000000000",
          "2023-08-29T09:00:00.000000000",
          "2023-08-29T10:00:00.000000000",
          "2023-08-29T11:00:00.000000000",
          "2023-08-29T12:00:00.000000000",
          "2023-08-29T13:00:00.000000000",
          "2023-08-29T14:00:00.000000000",
          "2023-08-29T15:00:00.000000000",
          "2023-08-29T16:00:00.000000000",
          "2023-08-29T17:00:00.000000000",
          "2023-08-29T18:00:00.000000000",
          "2023-08-29T19:00:00.000000000",
          "2023-08-29T20:00:00.000000000",
          "2023-08-29T21:00:00.000000000",
          "2023-08-29T22:00:00.000000000",
          "2023-08-29T23:00:00.000000000",
          "2023-08-30T00:00:00.000000000",
          "2023-08-30T01:00:00.000000000",
          "2023-08-30T02:00:00.000000000",
          "2023-08-30T03:00:00.000000000",
          "2023-08-30T04:00:00.000000000",
          "2023-08-30T05:00:00.000000000",
          "2023-08-30T06:00:00.000000000",
          "2023-08-30T07:00:00.000000000",
          "2023-08-30T08:00:00.000000000",
          "2023-08-30T09:00:00.000000000",
          "2023-08-30T10:00:00.000000000",
          "2023-08-30T11:00:00.000000000",
          "2023-08-30T12:00:00.000000000",
          "2023-08-30T13:00:00.000000000",
          "2023-08-30T14:00:00.000000000",
          "2023-08-30T15:00:00.000000000",
          "2023-08-30T16:00:00.000000000",
          "2023-08-30T17:00:00.000000000",
          "2023-08-30T18:00:00.000000000",
          "2023-08-30T19:00:00.000000000",
          "2023-08-30T20:00:00.000000000",
          "2023-08-30T21:00:00.000000000",
          "2023-08-30T22:00:00.000000000",
          "2023-08-30T23:00:00.000000000",
          "2023-08-31T00:00:00.000000000",
          "2023-08-31T01:00:00.000000000",
          "2023-08-31T02:00:00.000000000",
          "2023-08-31T03:00:00.000000000",
          "2023-08-31T04:00:00.000000000",
          "2023-08-31T05:00:00.000000000",
          "2023-08-31T06:00:00.000000000",
          "2023-08-31T07:00:00.000000000",
          "2023-08-31T08:00:00.000000000",
          "2023-08-31T09:00:00.000000000",
          "2023-08-31T10:00:00.000000000",
          "2023-08-31T11:00:00.000000000",
          "2023-08-31T12:00:00.000000000",
          "2023-08-31T13:00:00.000000000",
          "2023-08-31T14:00:00.000000000",
          "2023-08-31T15:00:00.000000000",
          "2023-08-31T16:00:00.000000000",
          "2023-08-31T17:00:00.000000000",
          "2023-08-31T18:00:00.000000000",
          "2023-08-31T19:00:00.000000000",
          "2023-08-31T20:00:00.000000000",
          "2023-08-31T21:00:00.000000000",
          "2023-08-31T22:00:00.000000000",
          "2023-08-31T23:00:00.000000000",
          "2023-09-01T00:00:00.000000000"
         ],
         "xaxis": "x",
         "y": {
          "bdata": "DAAGAAEAAQAAAAcACAAuACkAMAA5AEwAfQCPAIwApACaAKEAcwBzAFoAQAAeABcADQAHAAEAAAAAAAQAAgALABwAIwA0AFEAdACDAKAAwACyAKcAkgCEAGwARgAtACMADgAFAAMAAQAAAAMABwANAAwAGwAyAEEAggB9AKUAiwCnAHwASAA9AC0ALgAVAA8AAgACAAAAAAABAAUADQAkACIAJwBNAEIAZwBzAIkAigCaAHQARQBCACQADgAVAAoAAwAAAAAAAAABAAQABQAsAD0AOwBEAFcAbQBtAGoAkAChAGIAXQBBAEAANAAoAA4AAQAAAAEAAwACAAIADQAnADIALgA4AFwAggBcAGUAeQBrAFwAUgBMAEkAbwBXABgABQAFAAIAAAAAAAIADAApACcANABJAGMAnACjAJUAwwDNAHwARABCAD0ASgBDABMADAAHAAAAAwACAAIADQAZAB4ALAA8AEMAaAB0AI0AlgCOAJcAhwB5AGwAQwAZABMACQAIAAMABAACAAMABQANABkAKAAnAEkAcgCJAJQArACuALAAjQCeAGoAOQAsAB0ACQAFAAAAAAACAAIAAwAKABAAGAAwAFQAbgB+AHYAdwCSAIQASQBCACsAFwAYAAgAAQACAAIAAQACAAUACgAcACIALwAyAFAAWwBqAIUAmACWAHIARgBYADQAIwAkAAgABQADAAAAAAACAAAADQAmABQAQQA6AG0AZgCVAH8AeACaAJUARwBFADkAOAAqAA8ABQADAAEAAAAAAAAACwArAC0AOwA/AGcAUgBkAHUAaABMAGMATgBDADkAJwA1ABcABgADAAIAAQACAAQAFQArAC0AKwBQAFkAZQCfAIoAhgCjAJMAWwBfADcANgAnAA4AAQADAAEAAQADAAMABwAQABUAJgAzAFIAWwCGAIgAjwClAIkAaAB1AG4ANgAvACEACwAGAAIAAgADAAUADwAPAAwAJAA5ADoAaQB5AIQAnwCvALUAmQCiAH8ARgAwABcACgAGAAEAAAABAAEABQANAA8AHgA1AEMAbgBzAJIAlQCbAG0AUABEACwAFwAXAA0AAgABAAAAAAABAAMACwAbACIANgA/AFQAYACFAI8AjgCAAGsAQQBGACcAHwAOAAoABgABAAAAAAABAAIAEAALABkAMwBBAE8AcABuAHAAkgCVAHAAaQBXADAAKgAiAA4ABwAEAAAAAQAAAAIACgAaACQAQABJAF4AYABiAGUAbQBpAFgAUgBJAEsASQBbABcADgADAAMAAAAAAAIACgAfAC0APABSAFwAlQCNAHoA2gDMAGMASQBGAC8AMwBJABAAAwACAAAAAAADAAYACAAYACoAPQA7AEAAaABwAI4AwgCqAK0AhACIAGEAOgAbABYADgAFAAAAAQABAAEABQANAA0AKgAvAFAAiwCIAH8AtQC7AJgAlACmAFoAPwAqAB4ACgAIAAIAAQAAAAEABQAHAA8AIAA3AD8AXQB6AJ4AlAC1AJgAXQBFACoAHgAlAAwABQACAAEAAQACAAYACgAPACUAMwBIAD8AXwBsAGkAhwB9AFEATgA7AC8AJAAXAAsABgABAAAAAQACAAQAFAAbADYAPwBXAFgAdAByAI4AiwB1AG8AXwBDACoALgAiABAABwADAAAAAAACAAMADgAbACwAQwA6AGEAZQBNAGAAawBFAEsAUgAzACQASQBRAAkACgACAAAAAQAAAAMADgAXACIANgBIAEMAXwBpAHAAjwCDAEoAUgA+AEAAIgAmAAwADgA=",
          "dtype": "i2"
         },
         "yaxis": "y"
        },
        {
         "line": {
          "color": "green"
         },
         "marker": {
          "size": 10
         },
         "mode": "markers",
         "name": "Actual Value",
         "type": "scatter",
         "x": [
          "2023-09-01T00:00:00"
         ],
         "y": [
          14
         ]
        },
        {
         "line": {
          "color": "red"
         },
         "marker": {
          "size": 15,
          "symbol": "x"
         },
         "mode": "markers",
         "name": "Prediction",
         "type": "scatter",
         "x": [
          "2023-09-01T00:00:00"
         ],
         "y": [
          7
         ]
        }
       ],
       "layout": {
        "legend": {
         "tracegroupgap": 0
        },
        "template": {
         "data": {
          "bar": [
           {
            "error_x": {
             "color": "#2a3f5f"
            },
            "error_y": {
             "color": "#2a3f5f"
            },
            "marker": {
             "line": {
              "color": "white",
              "width": 0.5
             },
             "pattern": {
              "fillmode": "overlay",
              "size": 10,
              "solidity": 0.2
             }
            },
            "type": "bar"
           }
          ],
          "barpolar": [
           {
            "marker": {
             "line": {
              "color": "white",
              "width": 0.5
             },
             "pattern": {
              "fillmode": "overlay",
              "size": 10,
              "solidity": 0.2
             }
            },
            "type": "barpolar"
           }
          ],
          "carpet": [
           {
            "aaxis": {
             "endlinecolor": "#2a3f5f",
             "gridcolor": "#C8D4E3",
             "linecolor": "#C8D4E3",
             "minorgridcolor": "#C8D4E3",
             "startlinecolor": "#2a3f5f"
            },
            "baxis": {
             "endlinecolor": "#2a3f5f",
             "gridcolor": "#C8D4E3",
             "linecolor": "#C8D4E3",
             "minorgridcolor": "#C8D4E3",
             "startlinecolor": "#2a3f5f"
            },
            "type": "carpet"
           }
          ],
          "choropleth": [
           {
            "colorbar": {
             "outlinewidth": 0,
             "ticks": ""
            },
            "type": "choropleth"
           }
          ],
          "contour": [
           {
            "colorbar": {
             "outlinewidth": 0,
             "ticks": ""
            },
            "colorscale": [
             [
              0,
              "#0d0887"
             ],
             [
              0.1111111111111111,
              "#46039f"
             ],
             [
              0.2222222222222222,
              "#7201a8"
             ],
             [
              0.3333333333333333,
              "#9c179e"
             ],
             [
              0.4444444444444444,
              "#bd3786"
             ],
             [
              0.5555555555555556,
              "#d8576b"
             ],
             [
              0.6666666666666666,
              "#ed7953"
             ],
             [
              0.7777777777777778,
              "#fb9f3a"
             ],
             [
              0.8888888888888888,
              "#fdca26"
             ],
             [
              1,
              "#f0f921"
             ]
            ],
            "type": "contour"
           }
          ],
          "contourcarpet": [
           {
            "colorbar": {
             "outlinewidth": 0,
             "ticks": ""
            },
            "type": "contourcarpet"
           }
          ],
          "heatmap": [
           {
            "colorbar": {
             "outlinewidth": 0,
             "ticks": ""
            },
            "colorscale": [
             [
              0,
              "#0d0887"
             ],
             [
              0.1111111111111111,
              "#46039f"
             ],
             [
              0.2222222222222222,
              "#7201a8"
             ],
             [
              0.3333333333333333,
              "#9c179e"
             ],
             [
              0.4444444444444444,
              "#bd3786"
             ],
             [
              0.5555555555555556,
              "#d8576b"
             ],
             [
              0.6666666666666666,
              "#ed7953"
             ],
             [
              0.7777777777777778,
              "#fb9f3a"
             ],
             [
              0.8888888888888888,
              "#fdca26"
             ],
             [
              1,
              "#f0f921"
             ]
            ],
            "type": "heatmap"
           }
          ],
          "histogram": [
           {
            "marker": {
             "pattern": {
              "fillmode": "overlay",
              "size": 10,
              "solidity": 0.2
             }
            },
            "type": "histogram"
           }
          ],
          "histogram2d": [
           {
            "colorbar": {
             "outlinewidth": 0,
             "ticks": ""
            },
            "colorscale": [
             [
              0,
              "#0d0887"
             ],
             [
              0.1111111111111111,
              "#46039f"
             ],
             [
              0.2222222222222222,
              "#7201a8"
             ],
             [
              0.3333333333333333,
              "#9c179e"
             ],
             [
              0.4444444444444444,
              "#bd3786"
             ],
             [
              0.5555555555555556,
              "#d8576b"
             ],
             [
              0.6666666666666666,
              "#ed7953"
             ],
             [
              0.7777777777777778,
              "#fb9f3a"
             ],
             [
              0.8888888888888888,
              "#fdca26"
             ],
             [
              1,
              "#f0f921"
             ]
            ],
            "type": "histogram2d"
           }
          ],
          "histogram2dcontour": [
           {
            "colorbar": {
             "outlinewidth": 0,
             "ticks": ""
            },
            "colorscale": [
             [
              0,
              "#0d0887"
             ],
             [
              0.1111111111111111,
              "#46039f"
             ],
             [
              0.2222222222222222,
              "#7201a8"
             ],
             [
              0.3333333333333333,
              "#9c179e"
             ],
             [
              0.4444444444444444,
              "#bd3786"
             ],
             [
              0.5555555555555556,
              "#d8576b"
             ],
             [
              0.6666666666666666,
              "#ed7953"
             ],
             [
              0.7777777777777778,
              "#fb9f3a"
             ],
             [
              0.8888888888888888,
              "#fdca26"
             ],
             [
              1,
              "#f0f921"
             ]
            ],
            "type": "histogram2dcontour"
           }
          ],
          "mesh3d": [
           {
            "colorbar": {
             "outlinewidth": 0,
             "ticks": ""
            },
            "type": "mesh3d"
           }
          ],
          "parcoords": [
           {
            "line": {
             "colorbar": {
              "outlinewidth": 0,
              "ticks": ""
             }
            },
            "type": "parcoords"
           }
          ],
          "pie": [
           {
            "automargin": true,
            "type": "pie"
           }
          ],
          "scatter": [
           {
            "fillpattern": {
             "fillmode": "overlay",
             "size": 10,
             "solidity": 0.2
            },
            "type": "scatter"
           }
          ],
          "scatter3d": [
           {
            "line": {
             "colorbar": {
              "outlinewidth": 0,
              "ticks": ""
             }
            },
            "marker": {
             "colorbar": {
              "outlinewidth": 0,
              "ticks": ""
             }
            },
            "type": "scatter3d"
           }
          ],
          "scattercarpet": [
           {
            "marker": {
             "colorbar": {
              "outlinewidth": 0,
              "ticks": ""
             }
            },
            "type": "scattercarpet"
           }
          ],
          "scattergeo": [
           {
            "marker": {
             "colorbar": {
              "outlinewidth": 0,
              "ticks": ""
             }
            },
            "type": "scattergeo"
           }
          ],
          "scattergl": [
           {
            "marker": {
             "colorbar": {
              "outlinewidth": 0,
              "ticks": ""
             }
            },
            "type": "scattergl"
           }
          ],
          "scattermap": [
           {
            "marker": {
             "colorbar": {
              "outlinewidth": 0,
              "ticks": ""
             }
            },
            "type": "scattermap"
           }
          ],
          "scattermapbox": [
           {
            "marker": {
             "colorbar": {
              "outlinewidth": 0,
              "ticks": ""
             }
            },
            "type": "scattermapbox"
           }
          ],
          "scatterpolar": [
           {
            "marker": {
             "colorbar": {
              "outlinewidth": 0,
              "ticks": ""
             }
            },
            "type": "scatterpolar"
           }
          ],
          "scatterpolargl": [
           {
            "marker": {
             "colorbar": {
              "outlinewidth": 0,
              "ticks": ""
             }
            },
            "type": "scatterpolargl"
           }
          ],
          "scatterternary": [
           {
            "marker": {
             "colorbar": {
              "outlinewidth": 0,
              "ticks": ""
             }
            },
            "type": "scatterternary"
           }
          ],
          "surface": [
           {
            "colorbar": {
             "outlinewidth": 0,
             "ticks": ""
            },
            "colorscale": [
             [
              0,
              "#0d0887"
             ],
             [
              0.1111111111111111,
              "#46039f"
             ],
             [
              0.2222222222222222,
              "#7201a8"
             ],
             [
              0.3333333333333333,
              "#9c179e"
             ],
             [
              0.4444444444444444,
              "#bd3786"
             ],
             [
              0.5555555555555556,
              "#d8576b"
             ],
             [
              0.6666666666666666,
              "#ed7953"
             ],
             [
              0.7777777777777778,
              "#fb9f3a"
             ],
             [
              0.8888888888888888,
              "#fdca26"
             ],
             [
              1,
              "#f0f921"
             ]
            ],
            "type": "surface"
           }
          ],
          "table": [
           {
            "cells": {
             "fill": {
              "color": "#EBF0F8"
             },
             "line": {
              "color": "white"
             }
            },
            "header": {
             "fill": {
              "color": "#C8D4E3"
             },
             "line": {
              "color": "white"
             }
            },
            "type": "table"
           }
          ]
         },
         "layout": {
          "annotationdefaults": {
           "arrowcolor": "#2a3f5f",
           "arrowhead": 0,
           "arrowwidth": 1
          },
          "autotypenumbers": "strict",
          "coloraxis": {
           "colorbar": {
            "outlinewidth": 0,
            "ticks": ""
           }
          },
          "colorscale": {
           "diverging": [
            [
             0,
             "#8e0152"
            ],
            [
             0.1,
             "#c51b7d"
            ],
            [
             0.2,
             "#de77ae"
            ],
            [
             0.3,
             "#f1b6da"
            ],
            [
             0.4,
             "#fde0ef"
            ],
            [
             0.5,
             "#f7f7f7"
            ],
            [
             0.6,
             "#e6f5d0"
            ],
            [
             0.7,
             "#b8e186"
            ],
            [
             0.8,
             "#7fbc41"
            ],
            [
             0.9,
             "#4d9221"
            ],
            [
             1,
             "#276419"
            ]
           ],
           "sequential": [
            [
             0,
             "#0d0887"
            ],
            [
             0.1111111111111111,
             "#46039f"
            ],
            [
             0.2222222222222222,
             "#7201a8"
            ],
            [
             0.3333333333333333,
             "#9c179e"
            ],
            [
             0.4444444444444444,
             "#bd3786"
            ],
            [
             0.5555555555555556,
             "#d8576b"
            ],
            [
             0.6666666666666666,
             "#ed7953"
            ],
            [
             0.7777777777777778,
             "#fb9f3a"
            ],
            [
             0.8888888888888888,
             "#fdca26"
            ],
            [
             1,
             "#f0f921"
            ]
           ],
           "sequentialminus": [
            [
             0,
             "#0d0887"
            ],
            [
             0.1111111111111111,
             "#46039f"
            ],
            [
             0.2222222222222222,
             "#7201a8"
            ],
            [
             0.3333333333333333,
             "#9c179e"
            ],
            [
             0.4444444444444444,
             "#bd3786"
            ],
            [
             0.5555555555555556,
             "#d8576b"
            ],
            [
             0.6666666666666666,
             "#ed7953"
            ],
            [
             0.7777777777777778,
             "#fb9f3a"
            ],
            [
             0.8888888888888888,
             "#fdca26"
            ],
            [
             1,
             "#f0f921"
            ]
           ]
          },
          "colorway": [
           "#636efa",
           "#EF553B",
           "#00cc96",
           "#ab63fa",
           "#FFA15A",
           "#19d3f3",
           "#FF6692",
           "#B6E880",
           "#FF97FF",
           "#FECB52"
          ],
          "font": {
           "color": "#2a3f5f"
          },
          "geo": {
           "bgcolor": "white",
           "lakecolor": "white",
           "landcolor": "white",
           "showlakes": true,
           "showland": true,
           "subunitcolor": "#C8D4E3"
          },
          "hoverlabel": {
           "align": "left"
          },
          "hovermode": "closest",
          "mapbox": {
           "style": "light"
          },
          "paper_bgcolor": "white",
          "plot_bgcolor": "white",
          "polar": {
           "angularaxis": {
            "gridcolor": "#EBF0F8",
            "linecolor": "#EBF0F8",
            "ticks": ""
           },
           "bgcolor": "white",
           "radialaxis": {
            "gridcolor": "#EBF0F8",
            "linecolor": "#EBF0F8",
            "ticks": ""
           }
          },
          "scene": {
           "xaxis": {
            "backgroundcolor": "white",
            "gridcolor": "#DFE8F3",
            "gridwidth": 2,
            "linecolor": "#EBF0F8",
            "showbackground": true,
            "ticks": "",
            "zerolinecolor": "#EBF0F8"
           },
           "yaxis": {
            "backgroundcolor": "white",
            "gridcolor": "#DFE8F3",
            "gridwidth": 2,
            "linecolor": "#EBF0F8",
            "showbackground": true,
            "ticks": "",
            "zerolinecolor": "#EBF0F8"
           },
           "zaxis": {
            "backgroundcolor": "white",
            "gridcolor": "#DFE8F3",
            "gridwidth": 2,
            "linecolor": "#EBF0F8",
            "showbackground": true,
            "ticks": "",
            "zerolinecolor": "#EBF0F8"
           }
          },
          "shapedefaults": {
           "line": {
            "color": "#2a3f5f"
           }
          },
          "ternary": {
           "aaxis": {
            "gridcolor": "#DFE8F3",
            "linecolor": "#A2B1C6",
            "ticks": ""
           },
           "baxis": {
            "gridcolor": "#DFE8F3",
            "linecolor": "#A2B1C6",
            "ticks": ""
           },
           "bgcolor": "white",
           "caxis": {
            "gridcolor": "#DFE8F3",
            "linecolor": "#A2B1C6",
            "ticks": ""
           }
          },
          "title": {
           "x": 0.05
          },
          "xaxis": {
           "automargin": true,
           "gridcolor": "#EBF0F8",
           "linecolor": "#EBF0F8",
           "ticks": "",
           "title": {
            "standoff": 15
           },
           "zerolinecolor": "#EBF0F8",
           "zerolinewidth": 2
          },
          "yaxis": {
           "automargin": true,
           "gridcolor": "#EBF0F8",
           "linecolor": "#EBF0F8",
           "ticks": "",
           "title": {
            "standoff": 15
           },
           "zerolinecolor": "#EBF0F8",
           "zerolinewidth": 2
          }
         }
        },
        "title": {
         "text": "Pickup Hour: 2023-09-01 00:00:00, Location ID: 43"
        },
        "xaxis": {
         "anchor": "y",
         "domain": [
          0,
          1
         ],
         "title": {
          "text": "Time"
         }
        },
        "yaxis": {
         "anchor": "x",
         "domain": [
          0,
          1
         ],
         "title": {
          "text": "Ride Counts"
         }
        }
       }
      }
     },
     "metadata": {},
     "output_type": "display_data"
    }
   ],
   "source": [
    "plot_aggregated_time_series(X_test, y_test, 5002, predictions)"
   ]
  }
 ],
 "metadata": {
  "kernelspec": {
   "display_name": "CDA500P1",
   "language": "python",
   "name": "python3"
  },
  "language_info": {
   "codemirror_mode": {
    "name": "ipython",
    "version": 3
   },
   "file_extension": ".py",
   "mimetype": "text/x-python",
   "name": "python",
   "nbconvert_exporter": "python",
   "pygments_lexer": "ipython3",
   "version": "3.12.8"
  }
 },
 "nbformat": 4,
 "nbformat_minor": 2
}
