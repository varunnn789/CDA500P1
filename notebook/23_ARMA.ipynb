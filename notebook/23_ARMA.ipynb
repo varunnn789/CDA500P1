{
 "cells": [
  {
   "cell_type": "code",
   "execution_count": 1,
   "metadata": {},
   "outputs": [],
   "source": [
    "%load_ext autoreload\n",
    "%autoreload 2\n",
    "import sys\n",
    "import os\n",
    "import pandas as pd\n",
    "from datetime import datetime\n",
    "import lightgbm as lgb\n",
    "from dotenv import load_dotenv\n",
    "load_dotenv() \n",
    "from sklearn.metrics import mean_absolute_error\n",
    "from sklearn.base import BaseEstimator, TransformerMixin\n",
    "from sklearn.preprocessing import FunctionTransformer\n",
    "from sklearn.pipeline import make_pipeline\n",
    "import numpy as np\n",
    "from sklearn.model_selection import RandomizedSearchCV\n",
    "from sklearn.model_selection import train_test_split\n",
    "import matplotlib.pyplot as plt\n",
    "from sklearn.model_selection import cross_val_score\n",
    "from statsmodels.tsa.arima.model import ARIMA\n",
    "from statsmodels.tsa.stattools import adfuller\n",
    "\n",
    "sys.path.append(os.path.abspath(os.path.join(os.getcwd(), \"..\")))\n",
    "\n",
    "from src.config import TRANSFORMED_DATA_DIR\n",
    "from src.data_utils import split_time_series_data\n",
    "from src.experiment_utils import set_mlflow_tracking, log_model_to_mlflow"
   ]
  },
  {
   "cell_type": "code",
   "execution_count": 2,
   "metadata": {},
   "outputs": [],
   "source": [
    "# Function to check stationarity\n",
    "def check_stationarity(time_series):\n",
    "    result = adfuller(time_series)\n",
    "    print(\"ADF Statistic:\", result[0])\n",
    "    print(\"p-value:\", result[1])\n",
    "    if result[1] <= 0.05:\n",
    "        print(\"The time series is stationary.\")\n",
    "    else:\n",
    "        print(\"The time series is NOT stationary. Consider differencing.\")\n",
    "\n",
    "# Function to fit ARMA model\n",
    "def fit_arma_model(train_data, ar_order, ma_order):\n",
    "    model = ARIMA(train_data, order=(ar_order, 0, ma_order))  # ARMA is a special case of ARIMA with d=0\n",
    "    results = model.fit()\n",
    "    print(results.summary())\n",
    "    return results\n",
    "\n",
    "# Function to evaluate predictions\n",
    "def evaluate_predictions(test_data, predictions):\n",
    "    mae = mean_absolute_error(test_data, predictions)\n",
    "    print(f\"Mean Absolute Error (MAE): {mae:.2f}\")\n",
    "    return mae\n",
    "\n"
   ]
  },
  {
   "cell_type": "code",
   "execution_count": 3,
   "metadata": {},
   "outputs": [],
   "source": [
    "def split_time_series_data_percentage(\n",
    "    df: pd.DataFrame,\n",
    "    target_column: str,\n",
    ") -> tuple[pd.DataFrame, pd.Series, pd.DataFrame, pd.Series, pd.DataFrame, pd.Series]:\n",
    "    \"\"\"\n",
    "    Splits a time series DataFrame into training, validation, and testing sets (70%, 20%, 10%).\n",
    "\n",
    "    Args:\n",
    "        df (pd.DataFrame): The input DataFrame containing the time series data.\n",
    "        target_column (str): The name of the target column to separate from the features.\n",
    "\n",
    "    Returns:\n",
    "        Tuple[pd.DataFrame, pd.Series, pd.DataFrame, pd.Series, pd.DataFrame, pd.Series]:\n",
    "            - X_train (pd.DataFrame): Training features (70% of data).\n",
    "            - y_train (pd.Series): Training target values.\n",
    "            - X_val (pd.DataFrame): Validation features (20% of data).\n",
    "            - y_val (pd.Series): Validation target values.\n",
    "            - X_test (pd.DataFrame): Testing features (10% of data).\n",
    "            - y_test (pd.Series): Testing target values.\n",
    "    \"\"\"\n",
    "    # Sort the DataFrame by date\n",
    "    df_sorted = df.sort_values(\"pickup_hour\")\n",
    "\n",
    "    # Calculate the split indices\n",
    "    train_end = int(len(df) * 0.5)\n",
    "    val_end = int(len(df) * 0.8)\n",
    "\n",
    "    # Split the data into training, validation, and testing sets\n",
    "    train_data = df_sorted[:train_end].reset_index(drop=True)\n",
    "    val_data = df_sorted[train_end:val_end].reset_index(drop=True)\n",
    "    test_data = df_sorted[val_end:].reset_index(drop=True)\n",
    "\n",
    "    # Separate features (X) and target (y) for all three sets\n",
    "    X_train = train_data.drop(columns=[target_column])\n",
    "    y_train = train_data[target_column]\n",
    "    X_val = val_data.drop(columns=[target_column])\n",
    "    y_val = val_data[target_column]\n",
    "    X_test = test_data.drop(columns=[target_column])\n",
    "    y_test = test_data[target_column]\n",
    "\n",
    "    return X_train, y_train, X_val, y_val, X_test, y_test"
   ]
  },
  {
   "cell_type": "code",
   "execution_count": 4,
   "metadata": {},
   "outputs": [],
   "source": [
    "df = pd.read_parquet(TRANSFORMED_DATA_DIR / \"tabular_data.parquet\")\n",
    "df.head(5)\n",
    "df.shape\n",
    "X_train, y_train, X_val, y_val, X_test, y_test = split_time_series_data_percentage(df, target_column=\"target\")"
   ]
  },
  {
   "cell_type": "code",
   "execution_count": 5,
   "metadata": {},
   "outputs": [
    {
     "name": "stdout",
     "output_type": "stream",
     "text": [
      "Testing ARMA(0,0)...\n",
      "ARMA(0,0) - Validation MAE: 17.42\n",
      "Testing ARMA(0,1)...\n",
      "ARMA(0,1) - Validation MAE: 17.42\n",
      "Testing ARMA(0,2)...\n",
      "ARMA(0,2) - Validation MAE: 17.42\n",
      "Testing ARMA(0,3)...\n",
      "ARMA(0,3) - Validation MAE: 17.42\n",
      "Testing ARMA(0,4)...\n",
      "ARMA(0,4) - Validation MAE: 17.42\n",
      "Testing ARMA(0,5)...\n",
      "ARMA(0,5) - Validation MAE: 17.42\n",
      "Testing ARMA(1,0)...\n",
      "ARMA(1,0) - Validation MAE: 17.42\n",
      "Testing ARMA(1,1)...\n",
      "ARMA(1,1) - Validation MAE: 17.50\n",
      "Testing ARMA(1,2)...\n",
      "ARMA(1,2) - Validation MAE: 17.48\n",
      "Testing ARMA(1,3)...\n"
     ]
    },
    {
     "name": "stderr",
     "output_type": "stream",
     "text": [
      "c:\\Users\\singh\\Downloads\\CDS500_Applied_ML_DS\\Projects\\CDA500P1\\CDA500P1\\Lib\\site-packages\\statsmodels\\tsa\\statespace\\sarimax.py:966: UserWarning: Non-stationary starting autoregressive parameters found. Using zeros as starting parameters.\n",
      "  warn('Non-stationary starting autoregressive parameters'\n",
      "c:\\Users\\singh\\Downloads\\CDS500_Applied_ML_DS\\Projects\\CDA500P1\\CDA500P1\\Lib\\site-packages\\statsmodels\\tsa\\statespace\\sarimax.py:978: UserWarning: Non-invertible starting MA parameters found. Using zeros as starting parameters.\n",
      "  warn('Non-invertible starting MA parameters found.'\n"
     ]
    },
    {
     "name": "stdout",
     "output_type": "stream",
     "text": [
      "ARMA(1,3) - Validation MAE: 17.47\n",
      "Testing ARMA(1,4)...\n",
      "ARMA(1,4) - Validation MAE: 17.47\n",
      "Testing ARMA(1,5)...\n",
      "ARMA(1,5) - Validation MAE: 17.47\n",
      "Testing ARMA(2,0)...\n",
      "ARMA(2,0) - Validation MAE: 17.42\n",
      "Testing ARMA(2,1)...\n",
      "ARMA(2,1) - Validation MAE: 17.47\n",
      "Testing ARMA(2,2)...\n",
      "ARMA(2,2) - Validation MAE: 17.53\n",
      "Testing ARMA(2,3)...\n"
     ]
    },
    {
     "name": "stderr",
     "output_type": "stream",
     "text": [
      "c:\\Users\\singh\\Downloads\\CDS500_Applied_ML_DS\\Projects\\CDA500P1\\CDA500P1\\Lib\\site-packages\\statsmodels\\tsa\\statespace\\sarimax.py:966: UserWarning: Non-stationary starting autoregressive parameters found. Using zeros as starting parameters.\n",
      "  warn('Non-stationary starting autoregressive parameters'\n",
      "c:\\Users\\singh\\Downloads\\CDS500_Applied_ML_DS\\Projects\\CDA500P1\\CDA500P1\\Lib\\site-packages\\statsmodels\\tsa\\statespace\\sarimax.py:978: UserWarning: Non-invertible starting MA parameters found. Using zeros as starting parameters.\n",
      "  warn('Non-invertible starting MA parameters found.'\n",
      "c:\\Users\\singh\\Downloads\\CDS500_Applied_ML_DS\\Projects\\CDA500P1\\CDA500P1\\Lib\\site-packages\\statsmodels\\base\\model.py:607: ConvergenceWarning: Maximum Likelihood optimization failed to converge. Check mle_retvals\n",
      "  warnings.warn(\"Maximum Likelihood optimization failed to \"\n"
     ]
    },
    {
     "name": "stdout",
     "output_type": "stream",
     "text": [
      "ARMA(2,3) - Validation MAE: 17.63\n",
      "Testing ARMA(2,4)...\n",
      "ARMA(2,4) - Validation MAE: 17.46\n",
      "Testing ARMA(2,5)...\n"
     ]
    },
    {
     "name": "stderr",
     "output_type": "stream",
     "text": [
      "c:\\Users\\singh\\Downloads\\CDS500_Applied_ML_DS\\Projects\\CDA500P1\\CDA500P1\\Lib\\site-packages\\statsmodels\\tsa\\statespace\\sarimax.py:966: UserWarning: Non-stationary starting autoregressive parameters found. Using zeros as starting parameters.\n",
      "  warn('Non-stationary starting autoregressive parameters'\n"
     ]
    },
    {
     "name": "stdout",
     "output_type": "stream",
     "text": [
      "ARMA(2,5) - Validation MAE: 17.46\n",
      "Testing ARMA(3,0)...\n",
      "ARMA(3,0) - Validation MAE: 17.42\n",
      "Testing ARMA(3,1)...\n"
     ]
    },
    {
     "name": "stderr",
     "output_type": "stream",
     "text": [
      "c:\\Users\\singh\\Downloads\\CDS500_Applied_ML_DS\\Projects\\CDA500P1\\CDA500P1\\Lib\\site-packages\\statsmodels\\tsa\\statespace\\sarimax.py:966: UserWarning: Non-stationary starting autoregressive parameters found. Using zeros as starting parameters.\n",
      "  warn('Non-stationary starting autoregressive parameters'\n",
      "c:\\Users\\singh\\Downloads\\CDS500_Applied_ML_DS\\Projects\\CDA500P1\\CDA500P1\\Lib\\site-packages\\statsmodels\\tsa\\statespace\\sarimax.py:978: UserWarning: Non-invertible starting MA parameters found. Using zeros as starting parameters.\n",
      "  warn('Non-invertible starting MA parameters found.'\n"
     ]
    },
    {
     "name": "stdout",
     "output_type": "stream",
     "text": [
      "ARMA(3,1) - Validation MAE: 17.46\n",
      "Testing ARMA(3,2)...\n"
     ]
    },
    {
     "name": "stderr",
     "output_type": "stream",
     "text": [
      "c:\\Users\\singh\\Downloads\\CDS500_Applied_ML_DS\\Projects\\CDA500P1\\CDA500P1\\Lib\\site-packages\\statsmodels\\tsa\\statespace\\sarimax.py:966: UserWarning: Non-stationary starting autoregressive parameters found. Using zeros as starting parameters.\n",
      "  warn('Non-stationary starting autoregressive parameters'\n",
      "c:\\Users\\singh\\Downloads\\CDS500_Applied_ML_DS\\Projects\\CDA500P1\\CDA500P1\\Lib\\site-packages\\statsmodels\\tsa\\statespace\\sarimax.py:978: UserWarning: Non-invertible starting MA parameters found. Using zeros as starting parameters.\n",
      "  warn('Non-invertible starting MA parameters found.'\n",
      "c:\\Users\\singh\\Downloads\\CDS500_Applied_ML_DS\\Projects\\CDA500P1\\CDA500P1\\Lib\\site-packages\\statsmodels\\base\\model.py:607: ConvergenceWarning: Maximum Likelihood optimization failed to converge. Check mle_retvals\n",
      "  warnings.warn(\"Maximum Likelihood optimization failed to \"\n"
     ]
    },
    {
     "name": "stdout",
     "output_type": "stream",
     "text": [
      "ARMA(3,2) - Validation MAE: 17.63\n",
      "Testing ARMA(3,3)...\n"
     ]
    },
    {
     "name": "stderr",
     "output_type": "stream",
     "text": [
      "c:\\Users\\singh\\Downloads\\CDS500_Applied_ML_DS\\Projects\\CDA500P1\\CDA500P1\\Lib\\site-packages\\statsmodels\\tsa\\statespace\\sarimax.py:966: UserWarning: Non-stationary starting autoregressive parameters found. Using zeros as starting parameters.\n",
      "  warn('Non-stationary starting autoregressive parameters'\n",
      "c:\\Users\\singh\\Downloads\\CDS500_Applied_ML_DS\\Projects\\CDA500P1\\CDA500P1\\Lib\\site-packages\\statsmodels\\tsa\\statespace\\sarimax.py:978: UserWarning: Non-invertible starting MA parameters found. Using zeros as starting parameters.\n",
      "  warn('Non-invertible starting MA parameters found.'\n"
     ]
    },
    {
     "name": "stdout",
     "output_type": "stream",
     "text": [
      "ARMA(3,3) - Validation MAE: 17.47\n",
      "Testing ARMA(3,4)...\n"
     ]
    },
    {
     "name": "stderr",
     "output_type": "stream",
     "text": [
      "c:\\Users\\singh\\Downloads\\CDS500_Applied_ML_DS\\Projects\\CDA500P1\\CDA500P1\\Lib\\site-packages\\statsmodels\\tsa\\statespace\\sarimax.py:966: UserWarning: Non-stationary starting autoregressive parameters found. Using zeros as starting parameters.\n",
      "  warn('Non-stationary starting autoregressive parameters'\n"
     ]
    },
    {
     "name": "stdout",
     "output_type": "stream",
     "text": [
      "ARMA(3,4) - Validation MAE: 17.47\n",
      "Testing ARMA(3,5)...\n"
     ]
    },
    {
     "name": "stderr",
     "output_type": "stream",
     "text": [
      "c:\\Users\\singh\\Downloads\\CDS500_Applied_ML_DS\\Projects\\CDA500P1\\CDA500P1\\Lib\\site-packages\\statsmodels\\tsa\\statespace\\sarimax.py:966: UserWarning: Non-stationary starting autoregressive parameters found. Using zeros as starting parameters.\n",
      "  warn('Non-stationary starting autoregressive parameters'\n",
      "c:\\Users\\singh\\Downloads\\CDS500_Applied_ML_DS\\Projects\\CDA500P1\\CDA500P1\\Lib\\site-packages\\statsmodels\\tsa\\statespace\\sarimax.py:978: UserWarning: Non-invertible starting MA parameters found. Using zeros as starting parameters.\n",
      "  warn('Non-invertible starting MA parameters found.'\n",
      "c:\\Users\\singh\\Downloads\\CDS500_Applied_ML_DS\\Projects\\CDA500P1\\CDA500P1\\Lib\\site-packages\\statsmodels\\base\\model.py:607: ConvergenceWarning: Maximum Likelihood optimization failed to converge. Check mle_retvals\n",
      "  warnings.warn(\"Maximum Likelihood optimization failed to \"\n"
     ]
    },
    {
     "name": "stdout",
     "output_type": "stream",
     "text": [
      "ARMA(3,5) - Validation MAE: 17.48\n",
      "Testing ARMA(4,0)...\n",
      "ARMA(4,0) - Validation MAE: 17.42\n",
      "Testing ARMA(4,1)...\n"
     ]
    },
    {
     "name": "stderr",
     "output_type": "stream",
     "text": [
      "c:\\Users\\singh\\Downloads\\CDS500_Applied_ML_DS\\Projects\\CDA500P1\\CDA500P1\\Lib\\site-packages\\statsmodels\\tsa\\statespace\\sarimax.py:966: UserWarning: Non-stationary starting autoregressive parameters found. Using zeros as starting parameters.\n",
      "  warn('Non-stationary starting autoregressive parameters'\n",
      "c:\\Users\\singh\\Downloads\\CDS500_Applied_ML_DS\\Projects\\CDA500P1\\CDA500P1\\Lib\\site-packages\\statsmodels\\tsa\\statespace\\sarimax.py:978: UserWarning: Non-invertible starting MA parameters found. Using zeros as starting parameters.\n",
      "  warn('Non-invertible starting MA parameters found.'\n"
     ]
    },
    {
     "name": "stdout",
     "output_type": "stream",
     "text": [
      "ARMA(4,1) - Validation MAE: 17.46\n",
      "Testing ARMA(4,2)...\n"
     ]
    },
    {
     "name": "stderr",
     "output_type": "stream",
     "text": [
      "c:\\Users\\singh\\Downloads\\CDS500_Applied_ML_DS\\Projects\\CDA500P1\\CDA500P1\\Lib\\site-packages\\statsmodels\\tsa\\statespace\\sarimax.py:966: UserWarning: Non-stationary starting autoregressive parameters found. Using zeros as starting parameters.\n",
      "  warn('Non-stationary starting autoregressive parameters'\n",
      "c:\\Users\\singh\\Downloads\\CDS500_Applied_ML_DS\\Projects\\CDA500P1\\CDA500P1\\Lib\\site-packages\\statsmodels\\tsa\\statespace\\sarimax.py:978: UserWarning: Non-invertible starting MA parameters found. Using zeros as starting parameters.\n",
      "  warn('Non-invertible starting MA parameters found.'\n"
     ]
    },
    {
     "name": "stdout",
     "output_type": "stream",
     "text": [
      "ARMA(4,2) - Validation MAE: 17.46\n",
      "Testing ARMA(4,3)...\n"
     ]
    },
    {
     "name": "stderr",
     "output_type": "stream",
     "text": [
      "c:\\Users\\singh\\Downloads\\CDS500_Applied_ML_DS\\Projects\\CDA500P1\\CDA500P1\\Lib\\site-packages\\statsmodels\\tsa\\statespace\\sarimax.py:966: UserWarning: Non-stationary starting autoregressive parameters found. Using zeros as starting parameters.\n",
      "  warn('Non-stationary starting autoregressive parameters'\n",
      "c:\\Users\\singh\\Downloads\\CDS500_Applied_ML_DS\\Projects\\CDA500P1\\CDA500P1\\Lib\\site-packages\\statsmodels\\tsa\\statespace\\sarimax.py:978: UserWarning: Non-invertible starting MA parameters found. Using zeros as starting parameters.\n",
      "  warn('Non-invertible starting MA parameters found.'\n"
     ]
    },
    {
     "name": "stdout",
     "output_type": "stream",
     "text": [
      "ARMA(4,3) - Validation MAE: 17.46\n",
      "Testing ARMA(4,4)...\n"
     ]
    },
    {
     "name": "stderr",
     "output_type": "stream",
     "text": [
      "c:\\Users\\singh\\Downloads\\CDS500_Applied_ML_DS\\Projects\\CDA500P1\\CDA500P1\\Lib\\site-packages\\statsmodels\\tsa\\statespace\\sarimax.py:966: UserWarning: Non-stationary starting autoregressive parameters found. Using zeros as starting parameters.\n",
      "  warn('Non-stationary starting autoregressive parameters'\n"
     ]
    },
    {
     "name": "stdout",
     "output_type": "stream",
     "text": [
      "ARMA(4,4) - Validation MAE: 17.47\n",
      "Testing ARMA(4,5)...\n"
     ]
    },
    {
     "name": "stderr",
     "output_type": "stream",
     "text": [
      "c:\\Users\\singh\\Downloads\\CDS500_Applied_ML_DS\\Projects\\CDA500P1\\CDA500P1\\Lib\\site-packages\\statsmodels\\tsa\\statespace\\sarimax.py:966: UserWarning: Non-stationary starting autoregressive parameters found. Using zeros as starting parameters.\n",
      "  warn('Non-stationary starting autoregressive parameters'\n",
      "c:\\Users\\singh\\Downloads\\CDS500_Applied_ML_DS\\Projects\\CDA500P1\\CDA500P1\\Lib\\site-packages\\statsmodels\\tsa\\statespace\\sarimax.py:978: UserWarning: Non-invertible starting MA parameters found. Using zeros as starting parameters.\n",
      "  warn('Non-invertible starting MA parameters found.'\n"
     ]
    },
    {
     "name": "stdout",
     "output_type": "stream",
     "text": [
      "ARMA(4,5) - Validation MAE: 17.47\n",
      "Testing ARMA(5,0)...\n",
      "ARMA(5,0) - Validation MAE: 17.42\n",
      "Testing ARMA(5,1)...\n"
     ]
    },
    {
     "name": "stderr",
     "output_type": "stream",
     "text": [
      "c:\\Users\\singh\\Downloads\\CDS500_Applied_ML_DS\\Projects\\CDA500P1\\CDA500P1\\Lib\\site-packages\\statsmodels\\tsa\\statespace\\sarimax.py:966: UserWarning: Non-stationary starting autoregressive parameters found. Using zeros as starting parameters.\n",
      "  warn('Non-stationary starting autoregressive parameters'\n",
      "c:\\Users\\singh\\Downloads\\CDS500_Applied_ML_DS\\Projects\\CDA500P1\\CDA500P1\\Lib\\site-packages\\statsmodels\\tsa\\statespace\\sarimax.py:978: UserWarning: Non-invertible starting MA parameters found. Using zeros as starting parameters.\n",
      "  warn('Non-invertible starting MA parameters found.'\n"
     ]
    },
    {
     "name": "stdout",
     "output_type": "stream",
     "text": [
      "ARMA(5,1) - Validation MAE: 17.46\n",
      "Testing ARMA(5,2)...\n"
     ]
    },
    {
     "name": "stderr",
     "output_type": "stream",
     "text": [
      "c:\\Users\\singh\\Downloads\\CDS500_Applied_ML_DS\\Projects\\CDA500P1\\CDA500P1\\Lib\\site-packages\\statsmodels\\tsa\\statespace\\sarimax.py:966: UserWarning: Non-stationary starting autoregressive parameters found. Using zeros as starting parameters.\n",
      "  warn('Non-stationary starting autoregressive parameters'\n",
      "c:\\Users\\singh\\Downloads\\CDS500_Applied_ML_DS\\Projects\\CDA500P1\\CDA500P1\\Lib\\site-packages\\statsmodels\\tsa\\statespace\\sarimax.py:978: UserWarning: Non-invertible starting MA parameters found. Using zeros as starting parameters.\n",
      "  warn('Non-invertible starting MA parameters found.'\n"
     ]
    },
    {
     "name": "stdout",
     "output_type": "stream",
     "text": [
      "ARMA(5,2) - Validation MAE: 17.46\n",
      "Testing ARMA(5,3)...\n"
     ]
    },
    {
     "name": "stderr",
     "output_type": "stream",
     "text": [
      "c:\\Users\\singh\\Downloads\\CDS500_Applied_ML_DS\\Projects\\CDA500P1\\CDA500P1\\Lib\\site-packages\\statsmodels\\tsa\\statespace\\sarimax.py:966: UserWarning: Non-stationary starting autoregressive parameters found. Using zeros as starting parameters.\n",
      "  warn('Non-stationary starting autoregressive parameters'\n",
      "c:\\Users\\singh\\Downloads\\CDS500_Applied_ML_DS\\Projects\\CDA500P1\\CDA500P1\\Lib\\site-packages\\statsmodels\\tsa\\statespace\\sarimax.py:978: UserWarning: Non-invertible starting MA parameters found. Using zeros as starting parameters.\n",
      "  warn('Non-invertible starting MA parameters found.'\n"
     ]
    },
    {
     "name": "stdout",
     "output_type": "stream",
     "text": [
      "ARMA(5,3) - Validation MAE: 17.47\n",
      "Testing ARMA(5,4)...\n"
     ]
    },
    {
     "name": "stderr",
     "output_type": "stream",
     "text": [
      "c:\\Users\\singh\\Downloads\\CDS500_Applied_ML_DS\\Projects\\CDA500P1\\CDA500P1\\Lib\\site-packages\\statsmodels\\tsa\\statespace\\sarimax.py:966: UserWarning: Non-stationary starting autoregressive parameters found. Using zeros as starting parameters.\n",
      "  warn('Non-stationary starting autoregressive parameters'\n"
     ]
    },
    {
     "name": "stdout",
     "output_type": "stream",
     "text": [
      "ARMA(5,4) - Validation MAE: 17.46\n",
      "Testing ARMA(5,5)...\n"
     ]
    },
    {
     "name": "stderr",
     "output_type": "stream",
     "text": [
      "c:\\Users\\singh\\Downloads\\CDS500_Applied_ML_DS\\Projects\\CDA500P1\\CDA500P1\\Lib\\site-packages\\statsmodels\\tsa\\statespace\\sarimax.py:966: UserWarning: Non-stationary starting autoregressive parameters found. Using zeros as starting parameters.\n",
      "  warn('Non-stationary starting autoregressive parameters'\n",
      "c:\\Users\\singh\\Downloads\\CDS500_Applied_ML_DS\\Projects\\CDA500P1\\CDA500P1\\Lib\\site-packages\\statsmodels\\tsa\\statespace\\sarimax.py:978: UserWarning: Non-invertible starting MA parameters found. Using zeros as starting parameters.\n",
      "  warn('Non-invertible starting MA parameters found.'\n",
      "c:\\Users\\singh\\Downloads\\CDS500_Applied_ML_DS\\Projects\\CDA500P1\\CDA500P1\\Lib\\site-packages\\statsmodels\\base\\model.py:607: ConvergenceWarning: Maximum Likelihood optimization failed to converge. Check mle_retvals\n",
      "  warnings.warn(\"Maximum Likelihood optimization failed to \"\n"
     ]
    },
    {
     "name": "stdout",
     "output_type": "stream",
     "text": [
      "ARMA(5,5) - Validation MAE: 17.47\n",
      "Best ARMA(0,0) - Validation MAE: 17.42\n",
      "Test Set MAE: 18.71\n"
     ]
    },
    {
     "data": {
      "image/png": "[encoded data removed]",
      "text/plain": [
       "<Figure size 1200x600 with 1 Axes>"
      ]
     },
     "metadata": {},
     "output_type": "display_data"
    }
   ],
   "source": [
    "import pandas as pd\n",
    "import numpy as np\n",
    "from statsmodels.tsa.arima.model import ARIMA\n",
    "from sklearn.metrics import mean_absolute_error\n",
    "import matplotlib.pyplot as plt\n",
    "\n",
    "# Function to fit ARMA model and calculate evaluation metrics\n",
    "def fit_arma_model(train_data, val_data, p, q):\n",
    "    try:\n",
    "        # Fit ARMA model (d=0 for ARMA)\n",
    "        model = ARIMA(train_data, order=(p, 0, q))\n",
    "        results = model.fit()\n",
    "        \n",
    "        # Forecast on validation set\n",
    "        forecast_val = results.forecast(steps=len(val_data))\n",
    "        \n",
    "        # Calculate MAE\n",
    "        mae = mean_absolute_error(val_data.values, forecast_val)\n",
    "        print(f\"ARMA({p},{q}) - Validation MAE: {mae:.2f}\")\n",
    "        \n",
    "        return results, mae\n",
    "    except Exception as e:\n",
    "        print(f\"Error fitting ARMA({p},{q}): {e}\")\n",
    "        return None, float(\"inf\")\n",
    "\n",
    "# Function to perform grid search for optimal p and q values\n",
    "def grid_search_arma(train_data, val_data, max_p=5, max_q=5):\n",
    "    best_p = None\n",
    "    best_q = None\n",
    "    best_mae = float(\"inf\")\n",
    "    best_model = None\n",
    "    \n",
    "    for p in range(max_p + 1):\n",
    "        for q in range(max_q + 1):\n",
    "            print(f\"Testing ARMA({p},{q})...\")\n",
    "            model, mae = fit_arma_model(train_data, val_data, p, q)\n",
    "            if mae < best_mae:\n",
    "                best_p, best_q = p, q\n",
    "                best_mae = mae\n",
    "                best_model = model\n",
    "    \n",
    "    print(f\"Best ARMA({best_p},{best_q}) - Validation MAE: {best_mae:.2f}\")\n",
    "    return best_model, best_p, best_q\n",
    "\n",
    "# Example usage with your data splits\n",
    "X_train, y_train, X_val, y_val, X_test, y_test = split_time_series_data_percentage(df, target_column=\"target\")\n",
    "\n",
    "# Perform grid search to find optimal p and q values\n",
    "max_p = 5  # Maximum AR order to test\n",
    "max_q = 5  # Maximum MA order to test\n",
    "best_model, best_p, best_q = grid_search_arma(y_train, y_val, max_p=max_p, max_q=max_q)\n",
    "\n",
    "if best_model is not None:\n",
    "    # Forecast on the test set using the best model\n",
    "    forecast_test = best_model.forecast(steps=len(y_test))\n",
    "\n",
    "    # Evaluate performance on the test set\n",
    "    test_mae = mean_absolute_error(y_test.values, forecast_test)\n",
    "    print(f\"Test Set MAE: {test_mae:.2f}\")\n",
    "\n",
    "    # Plot actual vs predicted values for the test set\n",
    "    plt.figure(figsize=(12, 6))\n",
    "    plt.plot(y_test.index, y_test.values, label=\"Actual\")\n",
    "    plt.plot(y_test.index, forecast_test.values, label=\"Predicted\", linestyle=\"--\")\n",
    "    plt.title(f\"ARMA({best_p},{best_q}) Test Set Predictions\")\n",
    "    plt.legend()\n",
    "    plt.show()\n",
    "else:\n",
    "    print(\"No valid ARMA model found during grid search.\")\n"
   ]
  }
 ],
 "metadata": {
  "kernelspec": {
   "display_name": "CDA500P1",
   "language": "python",
   "name": "python3"
  },
  "language_info": {
   "codemirror_mode": {
    "name": "ipython",
    "version": 3
   },
   "file_extension": ".py",
   "mimetype": "text/x-python",
   "name": "python",
   "nbconvert_exporter": "python",
   "pygments_lexer": "ipython3",
   "version": "3.12.8"
  }
 },
 "nbformat": 4,
 "nbformat_minor": 2
}
